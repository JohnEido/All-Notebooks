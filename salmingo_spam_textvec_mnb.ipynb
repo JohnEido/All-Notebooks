{
 "cells": [
  {
   "cell_type": "markdown",
   "id": "b16d4732",
   "metadata": {
    "scrolled": true
   },
   "source": [
    "# Importing Libraries"
   ]
  },
  {
   "cell_type": "code",
   "execution_count": 1,
   "id": "452c9cb9",
   "metadata": {},
   "outputs": [],
   "source": [
    "import numpy as np  \n",
    "import pandas as pd \n",
    "import matplotlib.pyplot as plt\n",
    "import seaborn as sns \n",
    "#Training Models\n",
    "from sklearn.model_selection import train_test_split\n",
    "from sklearn.feature_extraction.text import TfidfVectorizer\n",
    "from sklearn.naive_bayes import MultinomialNB\n",
    "from sklearn.metrics import classification_report,accuracy_score\n",
    "#Neural Network\n",
    "import tensorflow as tf \n",
    "from tensorflow import keras \n",
    "from tensorflow.keras import layers\n",
    "from tensorflow.keras.layers import TextVectorization\n",
    "\n",
    "import warnings\n",
    "warnings.filterwarnings('ignore')"
   ]
  },
  {
   "cell_type": "code",
   "execution_count": 2,
   "id": "bb2f09ac",
   "metadata": {},
   "outputs": [
    {
     "data": {
      "text/html": [
       "<div>\n",
       "<style scoped>\n",
       "    .dataframe tbody tr th:only-of-type {\n",
       "        vertical-align: middle;\n",
       "    }\n",
       "\n",
       "    .dataframe tbody tr th {\n",
       "        vertical-align: top;\n",
       "    }\n",
       "\n",
       "    .dataframe thead th {\n",
       "        text-align: right;\n",
       "    }\n",
       "</style>\n",
       "<table border=\"1\" class=\"dataframe\">\n",
       "  <thead>\n",
       "    <tr style=\"text-align: right;\">\n",
       "      <th></th>\n",
       "      <th>label</th>\n",
       "      <th>text</th>\n",
       "      <th>classification</th>\n",
       "    </tr>\n",
       "  </thead>\n",
       "  <tbody>\n",
       "    <tr>\n",
       "      <th>0</th>\n",
       "      <td>ham</td>\n",
       "      <td>Go until jurong point, crazy.. Available only ...</td>\n",
       "      <td>0</td>\n",
       "    </tr>\n",
       "    <tr>\n",
       "      <th>1</th>\n",
       "      <td>ham</td>\n",
       "      <td>Ok lar... Joking wif u oni...</td>\n",
       "      <td>0</td>\n",
       "    </tr>\n",
       "    <tr>\n",
       "      <th>2</th>\n",
       "      <td>spam</td>\n",
       "      <td>Free entry in 2 a wkly comp to win FA Cup fina...</td>\n",
       "      <td>1</td>\n",
       "    </tr>\n",
       "    <tr>\n",
       "      <th>3</th>\n",
       "      <td>ham</td>\n",
       "      <td>U dun say so early hor... U c already then say...</td>\n",
       "      <td>0</td>\n",
       "    </tr>\n",
       "    <tr>\n",
       "      <th>4</th>\n",
       "      <td>ham</td>\n",
       "      <td>Nah I don't think he goes to usf, he lives aro...</td>\n",
       "      <td>0</td>\n",
       "    </tr>\n",
       "  </tbody>\n",
       "</table>\n",
       "</div>"
      ],
      "text/plain": [
       "  label                                               text  classification\n",
       "0   ham  Go until jurong point, crazy.. Available only ...               0\n",
       "1   ham                      Ok lar... Joking wif u oni...               0\n",
       "2  spam  Free entry in 2 a wkly comp to win FA Cup fina...               1\n",
       "3   ham  U dun say so early hor... U c already then say...               0\n",
       "4   ham  Nah I don't think he goes to usf, he lives aro...               0"
      ]
     },
     "execution_count": 2,
     "metadata": {},
     "output_type": "execute_result"
    }
   ],
   "source": [
    "data = pd.read_csv(\"spam.csv\", encoding=\"latin-1\") \n",
    "data = data.drop(['Unnamed: 2', 'Unnamed: 3', 'Unnamed: 4'], axis=1) #Drop NAn Values\n",
    "data = data.rename(columns={'v1':'label', 'v2':'text'}) #Renaming columns to label and text\n",
    "tags = data[\"label\"] #Set label varable to tags\n",
    "texts = data[\"text\"] #Set text varable to tags\n",
    "data['classification'] = data['label'].map({'ham':0,'spam':1}) #Adding binary values to classify ham or spam\n",
    "data.head()"
   ]
  },
  {
   "cell_type": "markdown",
   "id": "e0ab256e",
   "metadata": {},
   "source": [
    "### To do: develop an accurate simple neural network model for spam classification (no LSTM, CNN, etc.)"
   ]
  },
  {
   "cell_type": "markdown",
   "id": "08b881e9",
   "metadata": {},
   "source": [
    "# Data Analysis"
   ]
  },
  {
   "cell_type": "code",
   "execution_count": 3,
   "id": "d06c7e18",
   "metadata": {
    "scrolled": true
   },
   "outputs": [
    {
     "name": "stdout",
     "output_type": "stream",
     "text": [
      "<class 'pandas.core.frame.DataFrame'>\n",
      "RangeIndex: 5572 entries, 0 to 5571\n",
      "Data columns (total 3 columns):\n",
      " #   Column          Non-Null Count  Dtype \n",
      "---  ------          --------------  ----- \n",
      " 0   label           5572 non-null   object\n",
      " 1   text            5572 non-null   object\n",
      " 2   classification  5572 non-null   int64 \n",
      "dtypes: int64(1), object(2)\n",
      "memory usage: 130.7+ KB\n"
     ]
    }
   ],
   "source": [
    "data.info() #Checking data info"
   ]
  },
  {
   "cell_type": "code",
   "execution_count": 4,
   "id": "6a08f2af",
   "metadata": {},
   "outputs": [
    {
     "data": {
      "text/plain": [
       "label             0\n",
       "text              0\n",
       "classification    0\n",
       "dtype: int64"
      ]
     },
     "execution_count": 4,
     "metadata": {},
     "output_type": "execute_result"
    }
   ],
   "source": [
    "data.isnull().sum() #Checking for NaN values"
   ]
  },
  {
   "cell_type": "code",
   "execution_count": 5,
   "id": "338c11fe",
   "metadata": {},
   "outputs": [
    {
     "data": {
      "text/plain": [
       "label                2\n",
       "text              5169\n",
       "classification       2\n",
       "dtype: int64"
      ]
     },
     "execution_count": 5,
     "metadata": {},
     "output_type": "execute_result"
    }
   ],
   "source": [
    "data.nunique() #Identifying uniques values"
   ]
  },
  {
   "cell_type": "code",
   "execution_count": 6,
   "id": "cd035e26",
   "metadata": {
    "scrolled": false
   },
   "outputs": [
    {
     "data": {
      "text/plain": [
       "<AxesSubplot:xlabel='label', ylabel='count'>"
      ]
     },
     "execution_count": 6,
     "metadata": {},
     "output_type": "execute_result"
    },
    {
     "data": {
      "image/png": "[encoded data removed]",
      "text/plain": [
       "<Figure size 432x288 with 1 Axes>"
      ]
     },
     "metadata": {
      "needs_background": "light"
     },
     "output_type": "display_data"
    }
   ],
   "source": [
    "sns.countplot('label', data=data) #Plotting data on values for spam and ham"
   ]
  },
  {
   "cell_type": "markdown",
   "id": "45fc847c",
   "metadata": {},
   "source": [
    "# Preparing Data"
   ]
  },
  {
   "cell_type": "code",
   "execution_count": 7,
   "id": "b3c47835",
   "metadata": {},
   "outputs": [
    {
     "name": "stdout",
     "output_type": "stream",
     "text": [
      "15\n"
     ]
    }
   ],
   "source": [
    "#Identifying legth of mean words\n",
    "mean_words_length=round(sum([len(i.split()) for i in data['text']])/len(data['text']))\n",
    "print(mean_words_length)"
   ]
  },
  {
   "cell_type": "code",
   "execution_count": 8,
   "id": "f69f2b8c",
   "metadata": {},
   "outputs": [
    {
     "name": "stdout",
     "output_type": "stream",
     "text": [
      "15585\n"
     ]
    }
   ],
   "source": [
    "#Identifying total no. of unique words in corpus\n",
    "s = set()\n",
    "for sent in data['text']:\n",
    "  for word in sent.split():\n",
    "    s.add(word)\n",
    "total_words_length=len(s)\n",
    "print(total_words_length)"
   ]
  },
  {
   "cell_type": "code",
   "execution_count": 9,
   "id": "e077c4c3",
   "metadata": {},
   "outputs": [
    {
     "data": {
      "text/plain": [
       "((4457,), (4457,), (1115,), (1115,))"
      ]
     },
     "execution_count": 9,
     "metadata": {},
     "output_type": "execute_result"
    }
   ],
   "source": [
    "#Splitting spam, ham data for training and testing \n",
    "X = np.asanyarray(texts) #all text data\n",
    "y = np.asanyarray(data['classification']) #classification of spam or ham data\n",
    "new_data = pd.DataFrame({'text': X, 'label': y})\n",
    "X_train, X_test, y_train, y_test = train_test_split(\n",
    "    new_data['text'], new_data['label'], test_size=0.2, random_state=42)\n",
    "X_train.shape, y_train.shape, X_test.shape, y_test.shape"
   ]
  },
  {
   "cell_type": "code",
   "execution_count": 10,
   "id": "17fb53a9",
   "metadata": {},
   "outputs": [
    {
     "data": {
      "text/plain": [
       "MultinomialNB()"
      ]
     },
     "execution_count": 10,
     "metadata": {},
     "output_type": "execute_result"
    }
   ],
   "source": [
    "# Choosing a model\n",
    "tfidf_vec = TfidfVectorizer().fit(X_train)\n",
    "X_train_vec,X_test_vec = tfidf_vec.transform(X_train),tfidf_vec.transform(X_test)\n",
    "\n",
    "\n",
    "#Classification model using naive beyes MNB\n",
    "model = MultinomialNB()\n",
    "model.fit(X_train_vec,y_train) #Training"
   ]
  },
  {
   "cell_type": "code",
   "execution_count": 11,
   "id": "82368f05",
   "metadata": {
    "scrolled": true
   },
   "outputs": [
    {
     "name": "stdout",
     "output_type": "stream",
     "text": [
      "0.9623318385650225\n",
      "              precision    recall  f1-score   support\n",
      "\n",
      "           0       0.96      1.00      0.98       965\n",
      "           1       1.00      0.72      0.84       150\n",
      "\n",
      "    accuracy                           0.96      1115\n",
      "   macro avg       0.98      0.86      0.91      1115\n",
      "weighted avg       0.96      0.96      0.96      1115\n",
      "\n"
     ]
    }
   ],
   "source": [
    "#Baseline model Evaluation\n",
    "nb_accuracy = accuracy_score(y_test, model.predict(X_test_vec))\n",
    "print(nb_accuracy)        \n",
    "print(classification_report(y_test, model.predict(X_test_vec)))"
   ]
  },
  {
   "cell_type": "code",
   "execution_count": 12,
   "id": "2887501e",
   "metadata": {},
   "outputs": [],
   "source": [
    "#Setting Parameters of word values\n",
    "token = total_words_length\n",
    "outputlen = mean_words_length\n",
    "\n",
    "text_vec = TextVectorization(\n",
    "    max_tokens = token,\n",
    "    standardize='lower_and_strip_punctuation',\n",
    "    output_mode='int',\n",
    "    output_sequence_length=outputlen\n",
    ")\n",
    "text_vec.adapt(X_train)"
   ]
  },
  {
   "cell_type": "markdown",
   "id": "50f69f3b",
   "metadata": {},
   "source": [
    "# Neural Network Building"
   ]
  },
  {
   "cell_type": "code",
   "execution_count": 13,
   "id": "f5da3de5",
   "metadata": {},
   "outputs": [],
   "source": [
    "#Parameter Tuning\n",
    "embedding_layer = layers.Embedding(\n",
    "    input_dim=token, #size of vocabulary\n",
    "    output_dim=128, #the dimension of the embedding layer \n",
    "    embeddings_initializer='uniform',\n",
    "    input_length=outputlen #legnth of sequence\n",
    ")"
   ]
  },
  {
   "cell_type": "code",
   "execution_count": 14,
   "id": "cd8b5419",
   "metadata": {},
   "outputs": [
    {
     "name": "stdout",
     "output_type": "stream",
     "text": [
      "Model: \"model\"\n",
      "_________________________________________________________________\n",
      " Layer (type)                Output Shape              Param #   \n",
      "=================================================================\n",
      " input_1 (InputLayer)        [(None, 1)]               0         \n",
      "                                                                 \n",
      " text_vectorization (TextVec  (None, 15)               0         \n",
      " torization)                                                     \n",
      "                                                                 \n",
      " embedding (Embedding)       (None, 15, 128)           1994880   \n",
      "                                                                 \n",
      " global_average_pooling1d (G  (None, 128)              0         \n",
      " lobalAveragePooling1D)                                          \n",
      "                                                                 \n",
      " flatten (Flatten)           (None, 128)               0         \n",
      "                                                                 \n",
      " dense (Dense)               (None, 32)                4128      \n",
      "                                                                 \n",
      " dense_1 (Dense)             (None, 1)                 33        \n",
      "                                                                 \n",
      "=================================================================\n",
      "Total params: 1,999,041\n",
      "Trainable params: 1,999,041\n",
      "Non-trainable params: 0\n",
      "_________________________________________________________________\n"
     ]
    }
   ],
   "source": [
    "input_layer = layers.Input(shape=(1,), dtype=tf.string)\n",
    "vec_layer = text_vec(input_layer)\n",
    "embedding_layer_model = embedding_layer(vec_layer)\n",
    "x = layers.GlobalAveragePooling1D()(embedding_layer_model)\n",
    "x = layers.Flatten()(x)\n",
    "x = layers.Dense(32, activation='relu')(x)\n",
    "output_layer = layers.Dense(1, activation='sigmoid')(x)\n",
    "model_1 = keras.Model(input_layer, output_layer)\n",
    "model_1.summary()"
   ]
  },
  {
   "cell_type": "code",
   "execution_count": 15,
   "id": "3e386b33",
   "metadata": {},
   "outputs": [],
   "source": [
    "#Compile (optimizers,lossand metrics parameters)\n",
    "model_1.compile(optimizer=keras.optimizers.Adam(),\n",
    "               loss=keras.losses.BinaryCrossentropy(label_smoothing=0.5),\n",
    "               metrics=['accuracy'])"
   ]
  },
  {
   "cell_type": "code",
   "execution_count": 16,
   "id": "087a0517",
   "metadata": {
    "scrolled": true
   },
   "outputs": [
    {
     "name": "stdout",
     "output_type": "stream",
     "text": [
      "Epoch 1/5\n",
      "140/140 [==============================] - 6s 37ms/step - loss: 0.6041 - accuracy: 0.9159 - val_loss: 0.5766 - val_accuracy: 0.9740\n",
      "Epoch 2/5\n",
      "140/140 [==============================] - 4s 31ms/step - loss: 0.5701 - accuracy: 0.9865 - val_loss: 0.5734 - val_accuracy: 0.9803\n",
      "Epoch 3/5\n",
      "140/140 [==============================] - 4s 31ms/step - loss: 0.5658 - accuracy: 0.9953 - val_loss: 0.5725 - val_accuracy: 0.9830\n",
      "Epoch 4/5\n",
      "140/140 [==============================] - 5s 36ms/step - loss: 0.5642 - accuracy: 0.9982 - val_loss: 0.5726 - val_accuracy: 0.9830\n",
      "Epoch 5/5\n",
      "140/140 [==============================] - 4s 31ms/step - loss: 0.5636 - accuracy: 0.9989 - val_loss: 0.5725 - val_accuracy: 0.9839\n"
     ]
    }
   ],
   "source": [
    "history_1 = model_1.fit(X_train,\n",
    "           y_train,\n",
    "           epochs=5,\n",
    "           validation_data=(X_test, y_test),\n",
    "           validation_steps=int(0.2 * len(X_test)))"
   ]
  },
  {
   "cell_type": "markdown",
   "id": "53151438",
   "metadata": {},
   "source": [
    "# Prediction"
   ]
  },
  {
   "cell_type": "code",
   "execution_count": 17,
   "id": "a9f7a412",
   "metadata": {
    "scrolled": true
   },
   "outputs": [
    {
     "name": "stdout",
     "output_type": "stream",
     "text": [
      "Testing Accuracy 0.9839\n",
      "Testing Loss 0.5725\n"
     ]
    }
   ],
   "source": [
    "#Testing accuracy and testing loss values\n",
    "loss, accuracy = model_1.evaluate(X_test, y_test, verbose=False)\n",
    "print(\"Testing Accuracy {:.4f}\".format(accuracy))\n",
    "loss, accuracy = model_1.evaluate(X_test, y_test, verbose=False)\n",
    "print(\"Testing Loss {:.4f}\".format(loss))"
   ]
  },
  {
   "cell_type": "code",
   "execution_count": 18,
   "id": "f122b203",
   "metadata": {},
   "outputs": [],
   "source": [
    "data.to_csv(\"output_spam.csv\")"
   ]
  },
  {
   "cell_type": "code",
   "execution_count": null,
   "id": "cec20296",
   "metadata": {},
   "outputs": [],
   "source": []
  },
  {
   "cell_type": "code",
   "execution_count": null,
   "id": "136b7e21",
   "metadata": {},
   "outputs": [],
   "source": []
  },
  {
   "cell_type": "code",
   "execution_count": null,
   "id": "f3e1ed49",
   "metadata": {},
   "outputs": [],
   "source": []
  },
  {
   "cell_type": "code",
   "execution_count": null,
   "id": "9e2d6920",
   "metadata": {},
   "outputs": [],
   "source": []
  },
  {
   "cell_type": "code",
   "execution_count": null,
   "id": "31274d66",
   "metadata": {},
   "outputs": [],
   "source": []
  },
  {
   "cell_type": "code",
   "execution_count": null,
   "id": "237fe9f8",
   "metadata": {},
   "outputs": [],
   "source": []
  },
  {
   "cell_type": "code",
   "execution_count": null,
   "id": "a9b3f6ff",
   "metadata": {},
   "outputs": [],
   "source": []
  },
  {
   "cell_type": "code",
   "execution_count": null,
   "id": "bf4d0a99",
   "metadata": {},
   "outputs": [],
   "source": []
  },
  {
   "cell_type": "code",
   "execution_count": null,
   "id": "7aa3a491",
   "metadata": {},
   "outputs": [],
   "source": []
  }
 ],
 "metadata": {
  "kernelspec": {
   "display_name": "Python 3 (ipykernel)",
   "language": "python",
   "name": "python3"
  },
  "language_info": {
   "codemirror_mode": {
    "name": "ipython",
    "version": 3
   },
   "file_extension": ".py",
   "mimetype": "text/x-python",
   "name": "python",
   "nbconvert_exporter": "python",
   "pygments_lexer": "ipython3",
   "version": "3.9.12"
  }
 },
 "nbformat": 4,
 "nbformat_minor": 5
}
