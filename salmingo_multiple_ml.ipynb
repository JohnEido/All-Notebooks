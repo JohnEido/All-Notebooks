{
 "cells": [
  {
   "cell_type": "markdown",
   "id": "255f2dfe",
   "metadata": {},
   "source": [
    "# Importing Libraries"
   ]
  },
  {
   "cell_type": "code",
   "execution_count": 1,
   "id": "d290bcec",
   "metadata": {},
   "outputs": [],
   "source": [
    "import numpy as np\n",
    "import pandas as pd\n",
    "import matplotlib.pyplot as plt\n",
    "import seaborn as sns\n",
    "#Machine Learning\n",
    "from sklearn.model_selection import train_test_split\n",
    "from sklearn.linear_model import LogisticRegression #Most efficient if y variable can be classified into only two types of classes\n",
    "from sklearn import svm #Good alternative to Logistic Regression\n",
    "from sklearn.metrics import accuracy_score\n",
    "from sklearn import metrics\n",
    "from sklearn.metrics import confusion_matrix #For indetifying positives and negatives\n",
    "#Neural NET\n",
    "import tensorflow as tf\n",
    "from tensorflow import keras\n",
    "from keras.models import Sequential #For layer by layer algorithm\n",
    "from keras.layers import Dense \n",
    "\n",
    "import warnings\n",
    "warnings.filterwarnings('ignore')"
   ]
  },
  {
   "cell_type": "markdown",
   "id": "179747d8",
   "metadata": {},
   "source": [
    "# Data Gathering"
   ]
  },
  {
   "cell_type": "code",
   "execution_count": 2,
   "id": "7e58f0d8",
   "metadata": {},
   "outputs": [],
   "source": [
    "titanic_train=pd.read_csv('train.csv')# Data scraped from https://www.kaggle.com/c/titanic\n",
    "titanic_test=pd.read_csv('test.csv')"
   ]
  },
  {
   "cell_type": "code",
   "execution_count": 3,
   "id": "62c781ab",
   "metadata": {},
   "outputs": [
    {
     "data": {
      "text/html": [
       "<div>\n",
       "<style scoped>\n",
       "    .dataframe tbody tr th:only-of-type {\n",
       "        vertical-align: middle;\n",
       "    }\n",
       "\n",
       "    .dataframe tbody tr th {\n",
       "        vertical-align: top;\n",
       "    }\n",
       "\n",
       "    .dataframe thead th {\n",
       "        text-align: right;\n",
       "    }\n",
       "</style>\n",
       "<table border=\"1\" class=\"dataframe\">\n",
       "  <thead>\n",
       "    <tr style=\"text-align: right;\">\n",
       "      <th></th>\n",
       "      <th>PassengerId</th>\n",
       "      <th>Survived</th>\n",
       "      <th>Pclass</th>\n",
       "      <th>Name</th>\n",
       "      <th>Sex</th>\n",
       "      <th>Age</th>\n",
       "      <th>SibSp</th>\n",
       "      <th>Parch</th>\n",
       "      <th>Ticket</th>\n",
       "      <th>Fare</th>\n",
       "      <th>Cabin</th>\n",
       "      <th>Embarked</th>\n",
       "    </tr>\n",
       "  </thead>\n",
       "  <tbody>\n",
       "    <tr>\n",
       "      <th>0</th>\n",
       "      <td>1</td>\n",
       "      <td>0</td>\n",
       "      <td>3</td>\n",
       "      <td>Braund, Mr. Owen Harris</td>\n",
       "      <td>male</td>\n",
       "      <td>22.0</td>\n",
       "      <td>1</td>\n",
       "      <td>0</td>\n",
       "      <td>A/5 21171</td>\n",
       "      <td>7.2500</td>\n",
       "      <td>NaN</td>\n",
       "      <td>S</td>\n",
       "    </tr>\n",
       "    <tr>\n",
       "      <th>1</th>\n",
       "      <td>2</td>\n",
       "      <td>1</td>\n",
       "      <td>1</td>\n",
       "      <td>Cumings, Mrs. John Bradley (Florence Briggs Th...</td>\n",
       "      <td>female</td>\n",
       "      <td>38.0</td>\n",
       "      <td>1</td>\n",
       "      <td>0</td>\n",
       "      <td>PC 17599</td>\n",
       "      <td>71.2833</td>\n",
       "      <td>C85</td>\n",
       "      <td>C</td>\n",
       "    </tr>\n",
       "    <tr>\n",
       "      <th>2</th>\n",
       "      <td>3</td>\n",
       "      <td>1</td>\n",
       "      <td>3</td>\n",
       "      <td>Heikkinen, Miss. Laina</td>\n",
       "      <td>female</td>\n",
       "      <td>26.0</td>\n",
       "      <td>0</td>\n",
       "      <td>0</td>\n",
       "      <td>STON/O2. 3101282</td>\n",
       "      <td>7.9250</td>\n",
       "      <td>NaN</td>\n",
       "      <td>S</td>\n",
       "    </tr>\n",
       "    <tr>\n",
       "      <th>3</th>\n",
       "      <td>4</td>\n",
       "      <td>1</td>\n",
       "      <td>1</td>\n",
       "      <td>Futrelle, Mrs. Jacques Heath (Lily May Peel)</td>\n",
       "      <td>female</td>\n",
       "      <td>35.0</td>\n",
       "      <td>1</td>\n",
       "      <td>0</td>\n",
       "      <td>113803</td>\n",
       "      <td>53.1000</td>\n",
       "      <td>C123</td>\n",
       "      <td>S</td>\n",
       "    </tr>\n",
       "    <tr>\n",
       "      <th>4</th>\n",
       "      <td>5</td>\n",
       "      <td>0</td>\n",
       "      <td>3</td>\n",
       "      <td>Allen, Mr. William Henry</td>\n",
       "      <td>male</td>\n",
       "      <td>35.0</td>\n",
       "      <td>0</td>\n",
       "      <td>0</td>\n",
       "      <td>373450</td>\n",
       "      <td>8.0500</td>\n",
       "      <td>NaN</td>\n",
       "      <td>S</td>\n",
       "    </tr>\n",
       "  </tbody>\n",
       "</table>\n",
       "</div>"
      ],
      "text/plain": [
       "   PassengerId  Survived  Pclass  \\\n",
       "0            1         0       3   \n",
       "1            2         1       1   \n",
       "2            3         1       3   \n",
       "3            4         1       1   \n",
       "4            5         0       3   \n",
       "\n",
       "                                                Name     Sex   Age  SibSp  \\\n",
       "0                            Braund, Mr. Owen Harris    male  22.0      1   \n",
       "1  Cumings, Mrs. John Bradley (Florence Briggs Th...  female  38.0      1   \n",
       "2                             Heikkinen, Miss. Laina  female  26.0      0   \n",
       "3       Futrelle, Mrs. Jacques Heath (Lily May Peel)  female  35.0      1   \n",
       "4                           Allen, Mr. William Henry    male  35.0      0   \n",
       "\n",
       "   Parch            Ticket     Fare Cabin Embarked  \n",
       "0      0         A/5 21171   7.2500   NaN        S  \n",
       "1      0          PC 17599  71.2833   C85        C  \n",
       "2      0  STON/O2. 3101282   7.9250   NaN        S  \n",
       "3      0            113803  53.1000  C123        S  \n",
       "4      0            373450   8.0500   NaN        S  "
      ]
     },
     "execution_count": 3,
     "metadata": {},
     "output_type": "execute_result"
    }
   ],
   "source": [
    "titanic_train.head()"
   ]
  },
  {
   "cell_type": "code",
   "execution_count": 4,
   "id": "fe8b42b1",
   "metadata": {},
   "outputs": [
    {
     "name": "stdout",
     "output_type": "stream",
     "text": [
      "<class 'pandas.core.frame.DataFrame'>\n",
      "RangeIndex: 891 entries, 0 to 890\n",
      "Data columns (total 12 columns):\n",
      " #   Column       Non-Null Count  Dtype  \n",
      "---  ------       --------------  -----  \n",
      " 0   PassengerId  891 non-null    int64  \n",
      " 1   Survived     891 non-null    int64  \n",
      " 2   Pclass       891 non-null    int64  \n",
      " 3   Name         891 non-null    object \n",
      " 4   Sex          891 non-null    object \n",
      " 5   Age          714 non-null    float64\n",
      " 6   SibSp        891 non-null    int64  \n",
      " 7   Parch        891 non-null    int64  \n",
      " 8   Ticket       891 non-null    object \n",
      " 9   Fare         891 non-null    float64\n",
      " 10  Cabin        204 non-null    object \n",
      " 11  Embarked     889 non-null    object \n",
      "dtypes: float64(2), int64(5), object(5)\n",
      "memory usage: 83.7+ KB\n"
     ]
    }
   ],
   "source": [
    "#Checking number and type of data\n",
    "titanic_train.info()"
   ]
  },
  {
   "cell_type": "code",
   "execution_count": 5,
   "id": "9c759706",
   "metadata": {},
   "outputs": [
    {
     "data": {
      "text/plain": [
       "PassengerId      0\n",
       "Survived         0\n",
       "Pclass           0\n",
       "Name             0\n",
       "Sex              0\n",
       "Age            177\n",
       "SibSp            0\n",
       "Parch            0\n",
       "Ticket           0\n",
       "Fare             0\n",
       "Cabin          687\n",
       "Embarked         2\n",
       "dtype: int64"
      ]
     },
     "execution_count": 5,
     "metadata": {},
     "output_type": "execute_result"
    }
   ],
   "source": [
    "#Identifying no. of NaN\n",
    "titanic_train.isnull().sum()"
   ]
  },
  {
   "cell_type": "code",
   "execution_count": 6,
   "id": "9107e0f4",
   "metadata": {},
   "outputs": [
    {
     "data": {
      "text/plain": [
       "PassengerId    891\n",
       "Survived         2\n",
       "Pclass           3\n",
       "Name           891\n",
       "Sex              2\n",
       "Age             88\n",
       "SibSp            7\n",
       "Parch            7\n",
       "Ticket         681\n",
       "Fare           248\n",
       "Cabin          147\n",
       "Embarked         3\n",
       "dtype: int64"
      ]
     },
     "execution_count": 6,
     "metadata": {},
     "output_type": "execute_result"
    }
   ],
   "source": [
    "#Identifying no. of unique values\n",
    "titanic_train.nunique()"
   ]
  },
  {
   "cell_type": "code",
   "execution_count": 7,
   "id": "d4017fdd",
   "metadata": {},
   "outputs": [
    {
     "data": {
      "text/html": [
       "<div>\n",
       "<style scoped>\n",
       "    .dataframe tbody tr th:only-of-type {\n",
       "        vertical-align: middle;\n",
       "    }\n",
       "\n",
       "    .dataframe tbody tr th {\n",
       "        vertical-align: top;\n",
       "    }\n",
       "\n",
       "    .dataframe thead th {\n",
       "        text-align: right;\n",
       "    }\n",
       "</style>\n",
       "<table border=\"1\" class=\"dataframe\">\n",
       "  <thead>\n",
       "    <tr style=\"text-align: right;\">\n",
       "      <th></th>\n",
       "      <th>PassengerId</th>\n",
       "      <th>Survived</th>\n",
       "      <th>Pclass</th>\n",
       "      <th>Age</th>\n",
       "      <th>SibSp</th>\n",
       "      <th>Parch</th>\n",
       "      <th>Fare</th>\n",
       "    </tr>\n",
       "  </thead>\n",
       "  <tbody>\n",
       "    <tr>\n",
       "      <th>count</th>\n",
       "      <td>891.000000</td>\n",
       "      <td>891.000000</td>\n",
       "      <td>891.000000</td>\n",
       "      <td>714.000000</td>\n",
       "      <td>891.000000</td>\n",
       "      <td>891.000000</td>\n",
       "      <td>891.000000</td>\n",
       "    </tr>\n",
       "    <tr>\n",
       "      <th>mean</th>\n",
       "      <td>446.000000</td>\n",
       "      <td>0.383838</td>\n",
       "      <td>2.308642</td>\n",
       "      <td>29.699118</td>\n",
       "      <td>0.523008</td>\n",
       "      <td>0.381594</td>\n",
       "      <td>32.204208</td>\n",
       "    </tr>\n",
       "    <tr>\n",
       "      <th>std</th>\n",
       "      <td>257.353842</td>\n",
       "      <td>0.486592</td>\n",
       "      <td>0.836071</td>\n",
       "      <td>14.526497</td>\n",
       "      <td>1.102743</td>\n",
       "      <td>0.806057</td>\n",
       "      <td>49.693429</td>\n",
       "    </tr>\n",
       "    <tr>\n",
       "      <th>min</th>\n",
       "      <td>1.000000</td>\n",
       "      <td>0.000000</td>\n",
       "      <td>1.000000</td>\n",
       "      <td>0.420000</td>\n",
       "      <td>0.000000</td>\n",
       "      <td>0.000000</td>\n",
       "      <td>0.000000</td>\n",
       "    </tr>\n",
       "    <tr>\n",
       "      <th>25%</th>\n",
       "      <td>223.500000</td>\n",
       "      <td>0.000000</td>\n",
       "      <td>2.000000</td>\n",
       "      <td>20.125000</td>\n",
       "      <td>0.000000</td>\n",
       "      <td>0.000000</td>\n",
       "      <td>7.910400</td>\n",
       "    </tr>\n",
       "    <tr>\n",
       "      <th>50%</th>\n",
       "      <td>446.000000</td>\n",
       "      <td>0.000000</td>\n",
       "      <td>3.000000</td>\n",
       "      <td>28.000000</td>\n",
       "      <td>0.000000</td>\n",
       "      <td>0.000000</td>\n",
       "      <td>14.454200</td>\n",
       "    </tr>\n",
       "    <tr>\n",
       "      <th>75%</th>\n",
       "      <td>668.500000</td>\n",
       "      <td>1.000000</td>\n",
       "      <td>3.000000</td>\n",
       "      <td>38.000000</td>\n",
       "      <td>1.000000</td>\n",
       "      <td>0.000000</td>\n",
       "      <td>31.000000</td>\n",
       "    </tr>\n",
       "    <tr>\n",
       "      <th>max</th>\n",
       "      <td>891.000000</td>\n",
       "      <td>1.000000</td>\n",
       "      <td>3.000000</td>\n",
       "      <td>80.000000</td>\n",
       "      <td>8.000000</td>\n",
       "      <td>6.000000</td>\n",
       "      <td>512.329200</td>\n",
       "    </tr>\n",
       "  </tbody>\n",
       "</table>\n",
       "</div>"
      ],
      "text/plain": [
       "       PassengerId    Survived      Pclass         Age       SibSp  \\\n",
       "count   891.000000  891.000000  891.000000  714.000000  891.000000   \n",
       "mean    446.000000    0.383838    2.308642   29.699118    0.523008   \n",
       "std     257.353842    0.486592    0.836071   14.526497    1.102743   \n",
       "min       1.000000    0.000000    1.000000    0.420000    0.000000   \n",
       "25%     223.500000    0.000000    2.000000   20.125000    0.000000   \n",
       "50%     446.000000    0.000000    3.000000   28.000000    0.000000   \n",
       "75%     668.500000    1.000000    3.000000   38.000000    1.000000   \n",
       "max     891.000000    1.000000    3.000000   80.000000    8.000000   \n",
       "\n",
       "            Parch        Fare  \n",
       "count  891.000000  891.000000  \n",
       "mean     0.381594   32.204208  \n",
       "std      0.806057   49.693429  \n",
       "min      0.000000    0.000000  \n",
       "25%      0.000000    7.910400  \n",
       "50%      0.000000   14.454200  \n",
       "75%      0.000000   31.000000  \n",
       "max      6.000000  512.329200  "
      ]
     },
     "execution_count": 7,
     "metadata": {},
     "output_type": "execute_result"
    }
   ],
   "source": [
    "#Presenting statistical data\n",
    "titanic_train.describe()"
   ]
  },
  {
   "cell_type": "markdown",
   "id": "9fdc736d",
   "metadata": {},
   "source": [
    "# Preparing Data"
   ]
  },
  {
   "cell_type": "code",
   "execution_count": 8,
   "id": "23f548ef",
   "metadata": {},
   "outputs": [],
   "source": [
    "#Managing NaN values\n",
    "titanic_train['Age'].fillna(titanic_train['Age'].mean(),inplace=True) #Setting Age Nan values to average or most common Age value"
   ]
  },
  {
   "cell_type": "code",
   "execution_count": 9,
   "id": "f856d089",
   "metadata": {},
   "outputs": [],
   "source": [
    "#Removing Cabin as a feature as it contains 147 unique values and 687 null values\n",
    "titanic_train=titanic_train.drop(columns='Cabin',axis=1)"
   ]
  },
  {
   "cell_type": "code",
   "execution_count": 10,
   "id": "b63b7615",
   "metadata": {},
   "outputs": [],
   "source": [
    "#Setting Embarked Nan values to most occuring value\n",
    "titanic_train['Embarked'].fillna(titanic_train['Embarked'].mode()[0],inplace=True)"
   ]
  },
  {
   "cell_type": "code",
   "execution_count": 11,
   "id": "1a45db91",
   "metadata": {},
   "outputs": [
    {
     "data": {
      "text/plain": [
       "PassengerId    0\n",
       "Survived       0\n",
       "Pclass         0\n",
       "Name           0\n",
       "Sex            0\n",
       "Age            0\n",
       "SibSp          0\n",
       "Parch          0\n",
       "Ticket         0\n",
       "Fare           0\n",
       "Embarked       0\n",
       "dtype: int64"
      ]
     },
     "execution_count": 11,
     "metadata": {},
     "output_type": "execute_result"
    }
   ],
   "source": [
    "#All Nan values managed\n",
    "titanic_train.isnull().sum()"
   ]
  },
  {
   "cell_type": "code",
   "execution_count": 12,
   "id": "90d6446a",
   "metadata": {},
   "outputs": [
    {
     "data": {
      "text/plain": [
       "array(['male', 'female'], dtype=object)"
      ]
     },
     "execution_count": 12,
     "metadata": {},
     "output_type": "execute_result"
    }
   ],
   "source": [
    "#Transforming selected feature float values to integer values\n",
    "titanic_train['Sex'].unique()"
   ]
  },
  {
   "cell_type": "code",
   "execution_count": 13,
   "id": "d760310d",
   "metadata": {},
   "outputs": [
    {
     "data": {
      "text/plain": [
       "array(['S', 'C', 'Q'], dtype=object)"
      ]
     },
     "execution_count": 13,
     "metadata": {},
     "output_type": "execute_result"
    }
   ],
   "source": [
    "titanic_train['Embarked'].unique()"
   ]
  },
  {
   "cell_type": "code",
   "execution_count": 14,
   "id": "2e3454c7",
   "metadata": {},
   "outputs": [],
   "source": [
    "Sex = {\n",
    "    'male': 1,\n",
    "    'female': 0\n",
    "}\n",
    "Embarked = {\n",
    "    'S': 0,\n",
    "    'C': 1,\n",
    "    'Q': 2\n",
    "}"
   ]
  },
  {
   "cell_type": "code",
   "execution_count": 15,
   "id": "2e2957e2",
   "metadata": {
    "scrolled": false
   },
   "outputs": [
    {
     "data": {
      "text/html": [
       "<div>\n",
       "<style scoped>\n",
       "    .dataframe tbody tr th:only-of-type {\n",
       "        vertical-align: middle;\n",
       "    }\n",
       "\n",
       "    .dataframe tbody tr th {\n",
       "        vertical-align: top;\n",
       "    }\n",
       "\n",
       "    .dataframe thead th {\n",
       "        text-align: right;\n",
       "    }\n",
       "</style>\n",
       "<table border=\"1\" class=\"dataframe\">\n",
       "  <thead>\n",
       "    <tr style=\"text-align: right;\">\n",
       "      <th></th>\n",
       "      <th>PassengerId</th>\n",
       "      <th>Survived</th>\n",
       "      <th>Pclass</th>\n",
       "      <th>Name</th>\n",
       "      <th>Sex</th>\n",
       "      <th>Age</th>\n",
       "      <th>SibSp</th>\n",
       "      <th>Parch</th>\n",
       "      <th>Ticket</th>\n",
       "      <th>Fare</th>\n",
       "      <th>Embarked</th>\n",
       "    </tr>\n",
       "  </thead>\n",
       "  <tbody>\n",
       "    <tr>\n",
       "      <th>0</th>\n",
       "      <td>1</td>\n",
       "      <td>0</td>\n",
       "      <td>3</td>\n",
       "      <td>Braund, Mr. Owen Harris</td>\n",
       "      <td>1</td>\n",
       "      <td>22.0</td>\n",
       "      <td>1</td>\n",
       "      <td>0</td>\n",
       "      <td>A/5 21171</td>\n",
       "      <td>7.2500</td>\n",
       "      <td>0</td>\n",
       "    </tr>\n",
       "    <tr>\n",
       "      <th>1</th>\n",
       "      <td>2</td>\n",
       "      <td>1</td>\n",
       "      <td>1</td>\n",
       "      <td>Cumings, Mrs. John Bradley (Florence Briggs Th...</td>\n",
       "      <td>0</td>\n",
       "      <td>38.0</td>\n",
       "      <td>1</td>\n",
       "      <td>0</td>\n",
       "      <td>PC 17599</td>\n",
       "      <td>71.2833</td>\n",
       "      <td>1</td>\n",
       "    </tr>\n",
       "    <tr>\n",
       "      <th>2</th>\n",
       "      <td>3</td>\n",
       "      <td>1</td>\n",
       "      <td>3</td>\n",
       "      <td>Heikkinen, Miss. Laina</td>\n",
       "      <td>0</td>\n",
       "      <td>26.0</td>\n",
       "      <td>0</td>\n",
       "      <td>0</td>\n",
       "      <td>STON/O2. 3101282</td>\n",
       "      <td>7.9250</td>\n",
       "      <td>0</td>\n",
       "    </tr>\n",
       "    <tr>\n",
       "      <th>3</th>\n",
       "      <td>4</td>\n",
       "      <td>1</td>\n",
       "      <td>1</td>\n",
       "      <td>Futrelle, Mrs. Jacques Heath (Lily May Peel)</td>\n",
       "      <td>0</td>\n",
       "      <td>35.0</td>\n",
       "      <td>1</td>\n",
       "      <td>0</td>\n",
       "      <td>113803</td>\n",
       "      <td>53.1000</td>\n",
       "      <td>0</td>\n",
       "    </tr>\n",
       "    <tr>\n",
       "      <th>4</th>\n",
       "      <td>5</td>\n",
       "      <td>0</td>\n",
       "      <td>3</td>\n",
       "      <td>Allen, Mr. William Henry</td>\n",
       "      <td>1</td>\n",
       "      <td>35.0</td>\n",
       "      <td>0</td>\n",
       "      <td>0</td>\n",
       "      <td>373450</td>\n",
       "      <td>8.0500</td>\n",
       "      <td>0</td>\n",
       "    </tr>\n",
       "  </tbody>\n",
       "</table>\n",
       "</div>"
      ],
      "text/plain": [
       "   PassengerId  Survived  Pclass  \\\n",
       "0            1         0       3   \n",
       "1            2         1       1   \n",
       "2            3         1       3   \n",
       "3            4         1       1   \n",
       "4            5         0       3   \n",
       "\n",
       "                                                Name  Sex   Age  SibSp  Parch  \\\n",
       "0                            Braund, Mr. Owen Harris    1  22.0      1      0   \n",
       "1  Cumings, Mrs. John Bradley (Florence Briggs Th...    0  38.0      1      0   \n",
       "2                             Heikkinen, Miss. Laina    0  26.0      0      0   \n",
       "3       Futrelle, Mrs. Jacques Heath (Lily May Peel)    0  35.0      1      0   \n",
       "4                           Allen, Mr. William Henry    1  35.0      0      0   \n",
       "\n",
       "             Ticket     Fare  Embarked  \n",
       "0         A/5 21171   7.2500         0  \n",
       "1          PC 17599  71.2833         1  \n",
       "2  STON/O2. 3101282   7.9250         0  \n",
       "3            113803  53.1000         0  \n",
       "4            373450   8.0500         0  "
      ]
     },
     "execution_count": 15,
     "metadata": {},
     "output_type": "execute_result"
    }
   ],
   "source": [
    "titanic_train['Sex'].replace(Sex, inplace=True)\n",
    "titanic_train['Embarked'].replace(Embarked, inplace=True)\n",
    "titanic_train.head()"
   ]
  },
  {
   "cell_type": "code",
   "execution_count": 16,
   "id": "0df39c53",
   "metadata": {},
   "outputs": [
    {
     "data": {
      "text/plain": [
       "<AxesSubplot:xlabel='Survived', ylabel='count'>"
      ]
     },
     "execution_count": 16,
     "metadata": {},
     "output_type": "execute_result"
    },
    {
     "data": {
      "image/png": "[encoded data removed]",
      "text/plain": [
       "<Figure size 432x288 with 1 Axes>"
      ]
     },
     "metadata": {
      "needs_background": "light"
     },
     "output_type": "display_data"
    }
   ],
   "source": [
    "#Plot data of number of survived or not\n",
    "sns.countplot('Survived', data=titanic_train)"
   ]
  },
  {
   "cell_type": "code",
   "execution_count": 17,
   "id": "641665e7",
   "metadata": {},
   "outputs": [
    {
     "data": {
      "text/html": [
       "<div>\n",
       "<style scoped>\n",
       "    .dataframe tbody tr th:only-of-type {\n",
       "        vertical-align: middle;\n",
       "    }\n",
       "\n",
       "    .dataframe tbody tr th {\n",
       "        vertical-align: top;\n",
       "    }\n",
       "\n",
       "    .dataframe thead th {\n",
       "        text-align: right;\n",
       "    }\n",
       "</style>\n",
       "<table border=\"1\" class=\"dataframe\">\n",
       "  <thead>\n",
       "    <tr style=\"text-align: right;\">\n",
       "      <th></th>\n",
       "      <th>Sex</th>\n",
       "      <th>Survived</th>\n",
       "    </tr>\n",
       "  </thead>\n",
       "  <tbody>\n",
       "    <tr>\n",
       "      <th>0</th>\n",
       "      <td>0</td>\n",
       "      <td>0.742038</td>\n",
       "    </tr>\n",
       "    <tr>\n",
       "      <th>1</th>\n",
       "      <td>1</td>\n",
       "      <td>0.188908</td>\n",
       "    </tr>\n",
       "  </tbody>\n",
       "</table>\n",
       "</div>"
      ],
      "text/plain": [
       "   Sex  Survived\n",
       "0    0  0.742038\n",
       "1    1  0.188908"
      ]
     },
     "execution_count": 17,
     "metadata": {},
     "output_type": "execute_result"
    }
   ],
   "source": [
    "#Rate of survival by Sex\n",
    "titanic_train[[\"Sex\", \"Survived\"]].groupby(['Sex'], as_index=False).mean().sort_values(by='Survived', ascending=False)\n",
    "#18.8 percent of all perished are male"
   ]
  },
  {
   "cell_type": "code",
   "execution_count": 18,
   "id": "d4c84b44",
   "metadata": {},
   "outputs": [
    {
     "data": {
      "text/html": [
       "<div>\n",
       "<style scoped>\n",
       "    .dataframe tbody tr th:only-of-type {\n",
       "        vertical-align: middle;\n",
       "    }\n",
       "\n",
       "    .dataframe tbody tr th {\n",
       "        vertical-align: top;\n",
       "    }\n",
       "\n",
       "    .dataframe thead th {\n",
       "        text-align: right;\n",
       "    }\n",
       "</style>\n",
       "<table border=\"1\" class=\"dataframe\">\n",
       "  <thead>\n",
       "    <tr style=\"text-align: right;\">\n",
       "      <th></th>\n",
       "      <th>Age</th>\n",
       "      <th>Survived</th>\n",
       "    </tr>\n",
       "  </thead>\n",
       "  <tbody>\n",
       "    <tr>\n",
       "      <th>0</th>\n",
       "      <td>0.42</td>\n",
       "      <td>1.0</td>\n",
       "    </tr>\n",
       "    <tr>\n",
       "      <th>9</th>\n",
       "      <td>5.00</td>\n",
       "      <td>1.0</td>\n",
       "    </tr>\n",
       "    <tr>\n",
       "      <th>80</th>\n",
       "      <td>63.00</td>\n",
       "      <td>1.0</td>\n",
       "    </tr>\n",
       "    <tr>\n",
       "      <th>69</th>\n",
       "      <td>53.00</td>\n",
       "      <td>1.0</td>\n",
       "    </tr>\n",
       "    <tr>\n",
       "      <th>1</th>\n",
       "      <td>0.67</td>\n",
       "      <td>1.0</td>\n",
       "    </tr>\n",
       "    <tr>\n",
       "      <th>...</th>\n",
       "      <td>...</td>\n",
       "      <td>...</td>\n",
       "    </tr>\n",
       "    <tr>\n",
       "      <th>50</th>\n",
       "      <td>36.50</td>\n",
       "      <td>0.0</td>\n",
       "    </tr>\n",
       "    <tr>\n",
       "      <th>32</th>\n",
       "      <td>24.50</td>\n",
       "      <td>0.0</td>\n",
       "    </tr>\n",
       "    <tr>\n",
       "      <th>47</th>\n",
       "      <td>34.50</td>\n",
       "      <td>0.0</td>\n",
       "    </tr>\n",
       "    <tr>\n",
       "      <th>41</th>\n",
       "      <td>30.50</td>\n",
       "      <td>0.0</td>\n",
       "    </tr>\n",
       "    <tr>\n",
       "      <th>19</th>\n",
       "      <td>14.50</td>\n",
       "      <td>0.0</td>\n",
       "    </tr>\n",
       "  </tbody>\n",
       "</table>\n",
       "<p>89 rows × 2 columns</p>\n",
       "</div>"
      ],
      "text/plain": [
       "      Age  Survived\n",
       "0    0.42       1.0\n",
       "9    5.00       1.0\n",
       "80  63.00       1.0\n",
       "69  53.00       1.0\n",
       "1    0.67       1.0\n",
       "..    ...       ...\n",
       "50  36.50       0.0\n",
       "32  24.50       0.0\n",
       "47  34.50       0.0\n",
       "41  30.50       0.0\n",
       "19  14.50       0.0\n",
       "\n",
       "[89 rows x 2 columns]"
      ]
     },
     "execution_count": 18,
     "metadata": {},
     "output_type": "execute_result"
    }
   ],
   "source": [
    "#Rate of survival by Age\n",
    "titanic_train[[\"Age\", \"Survived\"]].groupby(['Age'], as_index=False).mean().sort_values(by='Survived', ascending=False)"
   ]
  },
  {
   "cell_type": "code",
   "execution_count": 19,
   "id": "e58d03ac",
   "metadata": {},
   "outputs": [
    {
     "data": {
      "text/html": [
       "<div>\n",
       "<style scoped>\n",
       "    .dataframe tbody tr th:only-of-type {\n",
       "        vertical-align: middle;\n",
       "    }\n",
       "\n",
       "    .dataframe tbody tr th {\n",
       "        vertical-align: top;\n",
       "    }\n",
       "\n",
       "    .dataframe thead th {\n",
       "        text-align: right;\n",
       "    }\n",
       "</style>\n",
       "<table border=\"1\" class=\"dataframe\">\n",
       "  <thead>\n",
       "    <tr style=\"text-align: right;\">\n",
       "      <th></th>\n",
       "      <th>Pclass</th>\n",
       "      <th>Survived</th>\n",
       "    </tr>\n",
       "  </thead>\n",
       "  <tbody>\n",
       "    <tr>\n",
       "      <th>0</th>\n",
       "      <td>1</td>\n",
       "      <td>0.629630</td>\n",
       "    </tr>\n",
       "    <tr>\n",
       "      <th>1</th>\n",
       "      <td>2</td>\n",
       "      <td>0.472826</td>\n",
       "    </tr>\n",
       "    <tr>\n",
       "      <th>2</th>\n",
       "      <td>3</td>\n",
       "      <td>0.242363</td>\n",
       "    </tr>\n",
       "  </tbody>\n",
       "</table>\n",
       "</div>"
      ],
      "text/plain": [
       "   Pclass  Survived\n",
       "0       1  0.629630\n",
       "1       2  0.472826\n",
       "2       3  0.242363"
      ]
     },
     "execution_count": 19,
     "metadata": {},
     "output_type": "execute_result"
    }
   ],
   "source": [
    "#Rate of survival by Class\n",
    "titanic_train[[\"Pclass\", \"Survived\"]].groupby(['Pclass'], as_index=False).mean().sort_values(by='Survived', ascending=False)"
   ]
  },
  {
   "cell_type": "code",
   "execution_count": 20,
   "id": "05b8aa21",
   "metadata": {},
   "outputs": [
    {
     "data": {
      "text/plain": [
       "Index(['PassengerId', 'Survived', 'Pclass', 'Name', 'Sex', 'Age', 'SibSp',\n",
       "       'Parch', 'Ticket', 'Fare', 'Embarked'],\n",
       "      dtype='object')"
      ]
     },
     "execution_count": 20,
     "metadata": {},
     "output_type": "execute_result"
    }
   ],
   "source": [
    "#Data feature and prediction selection\n",
    "titanic_train.columns"
   ]
  },
  {
   "cell_type": "code",
   "execution_count": 21,
   "id": "015f0cb3",
   "metadata": {},
   "outputs": [],
   "source": [
    "X = titanic_train.drop(columns= ['PassengerId','Survived','Name','Ticket','Fare']) #Drop unwanted feature\n",
    "y = titanic_train['Survived']"
   ]
  },
  {
   "cell_type": "code",
   "execution_count": 22,
   "id": "a2fd0618",
   "metadata": {},
   "outputs": [
    {
     "name": "stdout",
     "output_type": "stream",
     "text": [
      "     Pclass  Sex        Age  SibSp  Parch  Embarked\n",
      "0         3    1  22.000000      1      0         0\n",
      "1         1    0  38.000000      1      0         1\n",
      "2         3    0  26.000000      0      0         0\n",
      "3         1    0  35.000000      1      0         0\n",
      "4         3    1  35.000000      0      0         0\n",
      "..      ...  ...        ...    ...    ...       ...\n",
      "886       2    1  27.000000      0      0         0\n",
      "887       1    0  19.000000      0      0         0\n",
      "888       3    0  29.699118      1      2         0\n",
      "889       1    1  26.000000      0      0         1\n",
      "890       3    1  32.000000      0      0         2\n",
      "\n",
      "[891 rows x 6 columns]\n"
     ]
    }
   ],
   "source": [
    "print(X)"
   ]
  },
  {
   "cell_type": "code",
   "execution_count": 23,
   "id": "c9e3475b",
   "metadata": {},
   "outputs": [
    {
     "name": "stdout",
     "output_type": "stream",
     "text": [
      "0      0\n",
      "1      1\n",
      "2      1\n",
      "3      1\n",
      "4      0\n",
      "      ..\n",
      "886    0\n",
      "887    1\n",
      "888    0\n",
      "889    1\n",
      "890    0\n",
      "Name: Survived, Length: 891, dtype: int64\n"
     ]
    }
   ],
   "source": [
    "print(y)"
   ]
  },
  {
   "cell_type": "code",
   "execution_count": 24,
   "id": "916e01b0",
   "metadata": {},
   "outputs": [],
   "source": [
    "#Splitting data into training and testing\n",
    "X_train, X_test, y_train, y_test = train_test_split(X,y, test_size = 0.2, random_state=0)"
   ]
  },
  {
   "cell_type": "markdown",
   "id": "f48d7cff",
   "metadata": {},
   "source": [
    "# Choosing a Model"
   ]
  },
  {
   "cell_type": "markdown",
   "id": "87154486",
   "metadata": {},
   "source": [
    "# Model 1 - Logistic Regression"
   ]
  },
  {
   "cell_type": "code",
   "execution_count": 25,
   "id": "8863b0f6",
   "metadata": {},
   "outputs": [],
   "source": [
    "model_1 = LogisticRegression() #Model selection"
   ]
  },
  {
   "cell_type": "code",
   "execution_count": 26,
   "id": "551ea883",
   "metadata": {},
   "outputs": [
    {
     "data": {
      "text/plain": [
       "LogisticRegression()"
      ]
     },
     "execution_count": 26,
     "metadata": {},
     "output_type": "execute_result"
    }
   ],
   "source": [
    "model_1.fit(X_train, y_train) #Fitting data to model"
   ]
  },
  {
   "cell_type": "code",
   "execution_count": 27,
   "id": "89d8a887",
   "metadata": {},
   "outputs": [],
   "source": [
    "model_1_test_prediction = model_1.predict(X_test) #Testing Logistic prediction"
   ]
  },
  {
   "cell_type": "code",
   "execution_count": 28,
   "id": "0b74b673",
   "metadata": {
    "scrolled": true
   },
   "outputs": [
    {
     "name": "stdout",
     "output_type": "stream",
     "text": [
      "[0 0 0 1 1 1 1 1 1 1 0 1 0 1 1 1 0 0 0 0 0 1 0 1 1 1 0 1 1 1 0 1 0 1 0 1 0\n",
      " 0 0 0 0 0 0 0 1 0 0 1 0 0 1 1 1 0 1 0 0 0 0 0 0 1 1 1 1 0 1 0 1 1 1 0 0 0\n",
      " 0 1 0 0 0 0 0 0 1 0 0 1 1 0 1 1 1 0 0 1 1 0 1 0 0 1 0 0 0 0 1 0 1 0 0 1 0\n",
      " 1 0 1 0 1 1 1 0 1 0 0 0 0 0 0 0 0 0 0 1 0 0 1 0 0 0 0 0 0 0 1 0 1 1 1 0 1\n",
      " 1 0 0 1 1 0 1 0 0 0 1 1 0 0 1 0 0 0 0 0 0 0 0 1 0 0 1 0 1 0 0]\n"
     ]
    }
   ],
   "source": [
    "print(model_1_test_prediction)"
   ]
  },
  {
   "cell_type": "code",
   "execution_count": 29,
   "id": "22b55267",
   "metadata": {},
   "outputs": [
    {
     "name": "stdout",
     "output_type": "stream",
     "text": [
      "Accuracy:  0.8156424581005587\n"
     ]
    }
   ],
   "source": [
    "model_1_testing_accuracy = accuracy_score(y_test, model_1_test_prediction) \n",
    "print('Accuracy: ',model_1_testing_accuracy )"
   ]
  },
  {
   "cell_type": "code",
   "execution_count": 30,
   "id": "82943755",
   "metadata": {
    "scrolled": false
   },
   "outputs": [
    {
     "data": {
      "text/plain": [
       "array([[92, 18],\n",
       "       [15, 54]], dtype=int64)"
      ]
     },
     "execution_count": 30,
     "metadata": {},
     "output_type": "execute_result"
    }
   ],
   "source": [
    "confusion_matrix(y_test,model_1_test_prediction)"
   ]
  },
  {
   "cell_type": "markdown",
   "id": "446ae89e",
   "metadata": {},
   "source": [
    "# Model 2 - SVM"
   ]
  },
  {
   "cell_type": "code",
   "execution_count": 31,
   "id": "89abec34",
   "metadata": {},
   "outputs": [],
   "source": [
    "model_2 = svm.SVC(kernel='linear') #Model Selection"
   ]
  },
  {
   "cell_type": "code",
   "execution_count": 32,
   "id": "d315c022",
   "metadata": {},
   "outputs": [
    {
     "data": {
      "text/plain": [
       "SVC(kernel='linear')"
      ]
     },
     "execution_count": 32,
     "metadata": {},
     "output_type": "execute_result"
    }
   ],
   "source": [
    "model_2.fit(X_train , y_train) #Fitting data to model"
   ]
  },
  {
   "cell_type": "code",
   "execution_count": 33,
   "id": "b2ebc259",
   "metadata": {},
   "outputs": [],
   "source": [
    "model_2_test_prediction = model_2.predict(X_test) # SVM test prediction"
   ]
  },
  {
   "cell_type": "code",
   "execution_count": 34,
   "id": "c47f9507",
   "metadata": {
    "scrolled": true
   },
   "outputs": [
    {
     "name": "stdout",
     "output_type": "stream",
     "text": [
      "[0 0 0 1 1 0 1 1 0 1 0 1 0 1 1 1 0 0 0 0 0 1 0 0 1 1 0 1 1 1 0 1 0 0 0 0 0\n",
      " 0 0 0 0 0 0 0 1 0 0 1 0 0 0 0 1 0 0 0 0 1 0 0 0 1 1 0 1 0 1 0 1 1 1 0 0 0\n",
      " 0 1 0 0 0 0 0 0 1 0 0 1 1 1 1 0 0 0 0 1 1 0 1 0 0 0 0 0 0 0 1 1 1 1 0 1 0\n",
      " 1 0 1 0 1 1 1 0 1 0 0 0 0 0 0 0 0 0 0 1 0 0 1 0 0 0 1 0 0 0 1 0 1 1 1 0 1\n",
      " 1 0 0 1 1 0 1 0 1 0 1 1 0 0 1 1 0 0 0 0 0 0 0 1 0 0 1 0 1 0 0]\n"
     ]
    }
   ],
   "source": [
    "print(model_2_test_prediction)"
   ]
  },
  {
   "cell_type": "code",
   "execution_count": 35,
   "id": "1f8190e2",
   "metadata": {},
   "outputs": [
    {
     "name": "stdout",
     "output_type": "stream",
     "text": [
      "Accuracy: 0.7877094972067039\n"
     ]
    }
   ],
   "source": [
    "print(\"Accuracy:\",metrics.accuracy_score(y_test,model_2_test_prediction))"
   ]
  },
  {
   "cell_type": "code",
   "execution_count": 36,
   "id": "207986c3",
   "metadata": {
    "scrolled": true
   },
   "outputs": [
    {
     "data": {
      "text/plain": [
       "array([[92, 18],\n",
       "       [20, 49]], dtype=int64)"
      ]
     },
     "execution_count": 36,
     "metadata": {},
     "output_type": "execute_result"
    }
   ],
   "source": [
    "confusion_matrix(y_test,model_2_test_prediction)"
   ]
  },
  {
   "cell_type": "code",
   "execution_count": 37,
   "id": "04fcd54d",
   "metadata": {
    "scrolled": false
   },
   "outputs": [
    {
     "name": "stdout",
     "output_type": "stream",
     "text": [
      "(712, 6) (712,)\n",
      "(179, 6) (179,)\n"
     ]
    }
   ],
   "source": [
    "print(X_train.shape, y_train.shape) #values distributed to train and test\n",
    "print(X_test.shape, y_test.shape)"
   ]
  },
  {
   "cell_type": "markdown",
   "id": "ea8a723b",
   "metadata": {},
   "source": [
    "# Model 3 - Simple Neural Network (Sequential)"
   ]
  },
  {
   "cell_type": "code",
   "execution_count": 38,
   "id": "2fb5f653",
   "metadata": {},
   "outputs": [],
   "source": [
    "#Neural Network model selection\n",
    "model = Sequential()# model for layer c layer neural network design\n",
    "model.add(Dense(12, input_shape=(6,), activation='relu')) #Shape is 6 because we have 6 features\n",
    "model.add(Dense(8, activation='relu')) #To avoid vanishin/exploding gradient problem\n",
    "model.add(Dense(1, activation='sigmoid')) #Output is binary for 1 and 0"
   ]
  },
  {
   "cell_type": "code",
   "execution_count": 39,
   "id": "e2d6d2d4",
   "metadata": {
    "scrolled": true
   },
   "outputs": [
    {
     "name": "stdout",
     "output_type": "stream",
     "text": [
      "Model: \"sequential\"\n",
      "_________________________________________________________________\n",
      " Layer (type)                Output Shape              Param #   \n",
      "=================================================================\n",
      " dense (Dense)               (None, 12)                84        \n",
      "                                                                 \n",
      " dense_1 (Dense)             (None, 8)                 104       \n",
      "                                                                 \n",
      " dense_2 (Dense)             (None, 1)                 9         \n",
      "                                                                 \n",
      "=================================================================\n",
      "Total params: 197\n",
      "Trainable params: 197\n",
      "Non-trainable params: 0\n",
      "_________________________________________________________________\n"
     ]
    }
   ],
   "source": [
    "# compiling the model\n",
    "model.compile(loss='binary_crossentropy', optimizer='adam', metrics=['accuracy'])#Needed output metric is accuracy\n",
    "model.summary()"
   ]
  },
  {
   "cell_type": "code",
   "execution_count": 40,
   "id": "6f7cd55a",
   "metadata": {
    "scrolled": true
   },
   "outputs": [
    {
     "name": "stdout",
     "output_type": "stream",
     "text": [
      "Epoch 1/300\n",
      "179/179 [==============================] - 1s 1ms/step - loss: 0.7074 - accuracy: 0.5780\n",
      "Epoch 2/300\n",
      "179/179 [==============================] - 0s 1ms/step - loss: 0.5922 - accuracy: 0.6644\n",
      "Epoch 3/300\n",
      "179/179 [==============================] - 0s 1ms/step - loss: 0.5629 - accuracy: 0.7059\n",
      "Epoch 4/300\n",
      "179/179 [==============================] - 0s 1ms/step - loss: 0.5365 - accuracy: 0.7565\n",
      "Epoch 5/300\n",
      "179/179 [==============================] - 0s 2ms/step - loss: 0.5210 - accuracy: 0.7553\n",
      "Epoch 6/300\n",
      "179/179 [==============================] - 0s 2ms/step - loss: 0.5166 - accuracy: 0.7710\n",
      "Epoch 7/300\n",
      "179/179 [==============================] - 0s 1ms/step - loss: 0.5065 - accuracy: 0.7800\n",
      "Epoch 8/300\n",
      "179/179 [==============================] - 0s 1ms/step - loss: 0.4939 - accuracy: 0.7935\n",
      "Epoch 9/300\n",
      "179/179 [==============================] - 0s 2ms/step - loss: 0.4838 - accuracy: 0.8025\n",
      "Epoch 10/300\n",
      "179/179 [==============================] - 0s 1ms/step - loss: 0.4721 - accuracy: 0.8092\n",
      "Epoch 11/300\n",
      "179/179 [==============================] - 0s 1ms/step - loss: 0.4734 - accuracy: 0.7991\n",
      "Epoch 12/300\n",
      "179/179 [==============================] - 0s 1ms/step - loss: 0.4651 - accuracy: 0.8058\n",
      "Epoch 13/300\n",
      "179/179 [==============================] - 0s 2ms/step - loss: 0.4569 - accuracy: 0.8137\n",
      "Epoch 14/300\n",
      "179/179 [==============================] - 0s 1ms/step - loss: 0.4616 - accuracy: 0.8137\n",
      "Epoch 15/300\n",
      "179/179 [==============================] - 0s 1ms/step - loss: 0.4493 - accuracy: 0.8114\n",
      "Epoch 16/300\n",
      "179/179 [==============================] - 0s 1ms/step - loss: 0.4501 - accuracy: 0.8215\n",
      "Epoch 17/300\n",
      "179/179 [==============================] - 0s 1ms/step - loss: 0.4411 - accuracy: 0.8215\n",
      "Epoch 18/300\n",
      "179/179 [==============================] - 0s 1ms/step - loss: 0.4404 - accuracy: 0.8070\n",
      "Epoch 19/300\n",
      "179/179 [==============================] - 0s 1ms/step - loss: 0.4437 - accuracy: 0.8182\n",
      "Epoch 20/300\n",
      "179/179 [==============================] - 0s 1ms/step - loss: 0.4464 - accuracy: 0.8137\n",
      "Epoch 21/300\n",
      "179/179 [==============================] - 0s 1ms/step - loss: 0.4402 - accuracy: 0.8171\n",
      "Epoch 22/300\n",
      "179/179 [==============================] - 0s 1ms/step - loss: 0.4353 - accuracy: 0.8171\n",
      "Epoch 23/300\n",
      "179/179 [==============================] - 0s 1ms/step - loss: 0.4376 - accuracy: 0.8182\n",
      "Epoch 24/300\n",
      "179/179 [==============================] - 0s 1ms/step - loss: 0.4443 - accuracy: 0.8070\n",
      "Epoch 25/300\n",
      "179/179 [==============================] - 0s 1ms/step - loss: 0.4407 - accuracy: 0.8171\n",
      "Epoch 26/300\n",
      "179/179 [==============================] - 0s 1ms/step - loss: 0.4398 - accuracy: 0.8272\n",
      "Epoch 27/300\n",
      "179/179 [==============================] - 0s 1ms/step - loss: 0.4345 - accuracy: 0.8137\n",
      "Epoch 28/300\n",
      "179/179 [==============================] - 0s 1ms/step - loss: 0.4373 - accuracy: 0.8137\n",
      "Epoch 29/300\n",
      "179/179 [==============================] - 0s 1ms/step - loss: 0.4343 - accuracy: 0.8193\n",
      "Epoch 30/300\n",
      "179/179 [==============================] - 0s 1ms/step - loss: 0.4273 - accuracy: 0.8137\n",
      "Epoch 31/300\n",
      "179/179 [==============================] - 0s 1ms/step - loss: 0.4403 - accuracy: 0.8137\n",
      "Epoch 32/300\n",
      "179/179 [==============================] - 0s 1ms/step - loss: 0.4371 - accuracy: 0.8103\n",
      "Epoch 33/300\n",
      "179/179 [==============================] - 0s 1ms/step - loss: 0.4274 - accuracy: 0.8114\n",
      "Epoch 34/300\n",
      "179/179 [==============================] - 0s 1ms/step - loss: 0.4399 - accuracy: 0.8114\n",
      "Epoch 35/300\n",
      "179/179 [==============================] - 0s 1ms/step - loss: 0.4272 - accuracy: 0.8238\n",
      "Epoch 36/300\n",
      "179/179 [==============================] - 0s 1ms/step - loss: 0.4295 - accuracy: 0.8159\n",
      "Epoch 37/300\n",
      "179/179 [==============================] - 0s 1ms/step - loss: 0.4331 - accuracy: 0.8103\n",
      "Epoch 38/300\n",
      "179/179 [==============================] - 0s 1ms/step - loss: 0.4287 - accuracy: 0.8103\n",
      "Epoch 39/300\n",
      "179/179 [==============================] - 0s 1ms/step - loss: 0.4326 - accuracy: 0.8260\n",
      "Epoch 40/300\n",
      "179/179 [==============================] - 0s 1ms/step - loss: 0.4301 - accuracy: 0.8204\n",
      "Epoch 41/300\n",
      "179/179 [==============================] - 0s 1ms/step - loss: 0.4291 - accuracy: 0.8204\n",
      "Epoch 42/300\n",
      "179/179 [==============================] - 0s 1ms/step - loss: 0.4279 - accuracy: 0.8159\n",
      "Epoch 43/300\n",
      "179/179 [==============================] - 0s 1ms/step - loss: 0.4254 - accuracy: 0.8193\n",
      "Epoch 44/300\n",
      "179/179 [==============================] - 0s 1ms/step - loss: 0.4341 - accuracy: 0.8204\n",
      "Epoch 45/300\n",
      "179/179 [==============================] - 0s 1ms/step - loss: 0.4276 - accuracy: 0.8148\n",
      "Epoch 46/300\n",
      "179/179 [==============================] - 0s 1ms/step - loss: 0.4253 - accuracy: 0.8171\n",
      "Epoch 47/300\n",
      "179/179 [==============================] - 0s 2ms/step - loss: 0.4288 - accuracy: 0.8193\n",
      "Epoch 48/300\n",
      "179/179 [==============================] - 0s 1ms/step - loss: 0.4299 - accuracy: 0.8137\n",
      "Epoch 49/300\n",
      "179/179 [==============================] - 0s 1ms/step - loss: 0.4245 - accuracy: 0.8126\n",
      "Epoch 50/300\n",
      "179/179 [==============================] - 0s 1ms/step - loss: 0.4257 - accuracy: 0.8260\n",
      "Epoch 51/300\n",
      "179/179 [==============================] - 1s 3ms/step - loss: 0.4251 - accuracy: 0.8215\n",
      "Epoch 52/300\n",
      "179/179 [==============================] - 0s 3ms/step - loss: 0.4237 - accuracy: 0.8148\n",
      "Epoch 53/300\n",
      "179/179 [==============================] - 0s 2ms/step - loss: 0.4200 - accuracy: 0.8182\n",
      "Epoch 54/300\n",
      "179/179 [==============================] - 0s 1ms/step - loss: 0.4229 - accuracy: 0.8182\n",
      "Epoch 55/300\n",
      "179/179 [==============================] - 0s 1ms/step - loss: 0.4240 - accuracy: 0.8238\n",
      "Epoch 56/300\n",
      "179/179 [==============================] - 0s 1ms/step - loss: 0.4207 - accuracy: 0.8159\n",
      "Epoch 57/300\n",
      "179/179 [==============================] - 0s 1ms/step - loss: 0.4233 - accuracy: 0.8182\n",
      "Epoch 58/300\n",
      "179/179 [==============================] - 0s 1ms/step - loss: 0.4271 - accuracy: 0.8171\n",
      "Epoch 59/300\n",
      "179/179 [==============================] - 0s 2ms/step - loss: 0.4287 - accuracy: 0.8204\n",
      "Epoch 60/300\n",
      "179/179 [==============================] - 0s 1ms/step - loss: 0.4279 - accuracy: 0.8182\n",
      "Epoch 61/300\n",
      "179/179 [==============================] - 0s 1ms/step - loss: 0.4254 - accuracy: 0.8137\n",
      "Epoch 62/300\n",
      "179/179 [==============================] - 0s 1ms/step - loss: 0.4289 - accuracy: 0.8204\n",
      "Epoch 63/300\n",
      "179/179 [==============================] - 0s 1ms/step - loss: 0.4216 - accuracy: 0.8260\n",
      "Epoch 64/300\n",
      "179/179 [==============================] - 0s 1ms/step - loss: 0.4225 - accuracy: 0.8215\n",
      "Epoch 65/300\n",
      "179/179 [==============================] - 0s 1ms/step - loss: 0.4258 - accuracy: 0.8171\n",
      "Epoch 66/300\n",
      "179/179 [==============================] - 0s 1ms/step - loss: 0.4179 - accuracy: 0.8114\n",
      "Epoch 67/300\n",
      "179/179 [==============================] - 0s 2ms/step - loss: 0.4215 - accuracy: 0.8148\n",
      "Epoch 68/300\n",
      "179/179 [==============================] - 0s 1ms/step - loss: 0.4254 - accuracy: 0.8193\n",
      "Epoch 69/300\n",
      "179/179 [==============================] - 0s 1ms/step - loss: 0.4299 - accuracy: 0.8204\n",
      "Epoch 70/300\n",
      "179/179 [==============================] - 0s 1ms/step - loss: 0.4244 - accuracy: 0.8137\n",
      "Epoch 71/300\n",
      "179/179 [==============================] - 0s 1ms/step - loss: 0.4228 - accuracy: 0.8159\n",
      "Epoch 72/300\n",
      "179/179 [==============================] - 0s 1ms/step - loss: 0.4262 - accuracy: 0.8171\n",
      "Epoch 73/300\n",
      "179/179 [==============================] - 0s 1ms/step - loss: 0.4204 - accuracy: 0.8227\n",
      "Epoch 74/300\n",
      "179/179 [==============================] - 0s 2ms/step - loss: 0.4269 - accuracy: 0.8238\n",
      "Epoch 75/300\n",
      "179/179 [==============================] - 0s 1ms/step - loss: 0.4231 - accuracy: 0.8238\n",
      "Epoch 76/300\n",
      "179/179 [==============================] - 0s 1ms/step - loss: 0.4316 - accuracy: 0.8204\n",
      "Epoch 77/300\n",
      "179/179 [==============================] - 0s 1ms/step - loss: 0.4203 - accuracy: 0.8182\n",
      "Epoch 78/300\n",
      "179/179 [==============================] - 0s 1ms/step - loss: 0.4288 - accuracy: 0.8215\n",
      "Epoch 79/300\n",
      "179/179 [==============================] - 0s 1ms/step - loss: 0.4289 - accuracy: 0.8272\n",
      "Epoch 80/300\n",
      "179/179 [==============================] - 0s 1ms/step - loss: 0.4236 - accuracy: 0.8159\n",
      "Epoch 81/300\n",
      "179/179 [==============================] - 0s 1ms/step - loss: 0.4253 - accuracy: 0.8227\n",
      "Epoch 82/300\n",
      "179/179 [==============================] - 0s 1ms/step - loss: 0.4204 - accuracy: 0.8193\n",
      "Epoch 83/300\n",
      "179/179 [==============================] - 0s 1ms/step - loss: 0.4224 - accuracy: 0.8215\n",
      "Epoch 84/300\n",
      "179/179 [==============================] - 0s 1ms/step - loss: 0.4254 - accuracy: 0.8204\n",
      "Epoch 85/300\n",
      "179/179 [==============================] - 0s 1ms/step - loss: 0.4279 - accuracy: 0.8204\n",
      "Epoch 86/300\n",
      "179/179 [==============================] - 0s 2ms/step - loss: 0.4241 - accuracy: 0.8204\n",
      "Epoch 87/300\n",
      "179/179 [==============================] - 0s 1ms/step - loss: 0.4207 - accuracy: 0.8238\n",
      "Epoch 88/300\n",
      "179/179 [==============================] - 0s 1ms/step - loss: 0.4251 - accuracy: 0.8114\n",
      "Epoch 89/300\n",
      "179/179 [==============================] - 0s 1ms/step - loss: 0.4170 - accuracy: 0.8249\n",
      "Epoch 90/300\n",
      "179/179 [==============================] - 0s 2ms/step - loss: 0.4198 - accuracy: 0.8215\n",
      "Epoch 91/300\n",
      "179/179 [==============================] - 0s 1ms/step - loss: 0.4187 - accuracy: 0.8294\n",
      "Epoch 92/300\n",
      "179/179 [==============================] - 0s 1ms/step - loss: 0.4218 - accuracy: 0.8193\n",
      "Epoch 93/300\n",
      "179/179 [==============================] - 0s 1ms/step - loss: 0.4216 - accuracy: 0.8204\n",
      "Epoch 94/300\n",
      "179/179 [==============================] - 0s 1ms/step - loss: 0.4218 - accuracy: 0.8182\n",
      "Epoch 95/300\n",
      "179/179 [==============================] - 0s 1ms/step - loss: 0.4222 - accuracy: 0.8238\n",
      "Epoch 96/300\n",
      "179/179 [==============================] - 0s 1ms/step - loss: 0.4304 - accuracy: 0.8171\n",
      "Epoch 97/300\n",
      "179/179 [==============================] - 0s 1ms/step - loss: 0.4282 - accuracy: 0.8171\n",
      "Epoch 98/300\n",
      "179/179 [==============================] - 0s 1ms/step - loss: 0.4197 - accuracy: 0.8182\n",
      "Epoch 99/300\n",
      "179/179 [==============================] - 0s 1ms/step - loss: 0.4267 - accuracy: 0.8126\n",
      "Epoch 100/300\n",
      "179/179 [==============================] - 0s 1ms/step - loss: 0.4227 - accuracy: 0.8227\n",
      "Epoch 101/300\n",
      "179/179 [==============================] - 0s 1ms/step - loss: 0.4174 - accuracy: 0.8126\n",
      "Epoch 102/300\n",
      "179/179 [==============================] - 0s 1ms/step - loss: 0.4192 - accuracy: 0.8238\n",
      "Epoch 103/300\n",
      "179/179 [==============================] - 0s 1ms/step - loss: 0.4150 - accuracy: 0.8294\n",
      "Epoch 104/300\n",
      "179/179 [==============================] - 0s 1ms/step - loss: 0.4196 - accuracy: 0.8238\n",
      "Epoch 105/300\n",
      "179/179 [==============================] - 0s 1ms/step - loss: 0.4186 - accuracy: 0.8182\n",
      "Epoch 106/300\n",
      "179/179 [==============================] - 0s 1ms/step - loss: 0.4139 - accuracy: 0.8249\n",
      "Epoch 107/300\n",
      "179/179 [==============================] - 0s 1ms/step - loss: 0.4311 - accuracy: 0.8227\n",
      "Epoch 108/300\n",
      "179/179 [==============================] - 0s 1ms/step - loss: 0.4210 - accuracy: 0.8159\n",
      "Epoch 109/300\n",
      "179/179 [==============================] - 0s 1ms/step - loss: 0.4197 - accuracy: 0.8283\n",
      "Epoch 110/300\n",
      "179/179 [==============================] - 0s 1ms/step - loss: 0.4179 - accuracy: 0.8204\n",
      "Epoch 111/300\n",
      "179/179 [==============================] - 0s 1ms/step - loss: 0.4205 - accuracy: 0.8238\n",
      "Epoch 112/300\n",
      "179/179 [==============================] - 0s 1ms/step - loss: 0.4214 - accuracy: 0.8204\n",
      "Epoch 113/300\n",
      "179/179 [==============================] - 0s 1ms/step - loss: 0.4133 - accuracy: 0.8272\n",
      "Epoch 114/300\n",
      "179/179 [==============================] - 0s 1ms/step - loss: 0.4176 - accuracy: 0.8238\n",
      "Epoch 115/300\n",
      "179/179 [==============================] - 0s 1ms/step - loss: 0.4169 - accuracy: 0.8238\n",
      "Epoch 116/300\n",
      "179/179 [==============================] - 0s 1ms/step - loss: 0.4190 - accuracy: 0.8204\n",
      "Epoch 117/300\n",
      "179/179 [==============================] - 0s 1ms/step - loss: 0.4249 - accuracy: 0.8137\n",
      "Epoch 118/300\n",
      "179/179 [==============================] - 0s 1ms/step - loss: 0.4165 - accuracy: 0.8238\n",
      "Epoch 119/300\n",
      "179/179 [==============================] - 0s 1ms/step - loss: 0.4334 - accuracy: 0.8182\n",
      "Epoch 120/300\n",
      "179/179 [==============================] - 0s 1ms/step - loss: 0.4169 - accuracy: 0.8260\n",
      "Epoch 121/300\n",
      "179/179 [==============================] - 0s 2ms/step - loss: 0.4200 - accuracy: 0.8260\n",
      "Epoch 122/300\n",
      "179/179 [==============================] - 0s 2ms/step - loss: 0.4223 - accuracy: 0.8272\n",
      "Epoch 123/300\n",
      "179/179 [==============================] - 0s 2ms/step - loss: 0.4250 - accuracy: 0.8227\n",
      "Epoch 124/300\n",
      "179/179 [==============================] - 0s 2ms/step - loss: 0.4252 - accuracy: 0.8260\n",
      "Epoch 125/300\n",
      "179/179 [==============================] - 0s 2ms/step - loss: 0.4210 - accuracy: 0.8159\n",
      "Epoch 126/300\n",
      "179/179 [==============================] - 0s 2ms/step - loss: 0.4198 - accuracy: 0.8081\n",
      "Epoch 127/300\n",
      "179/179 [==============================] - 0s 2ms/step - loss: 0.4224 - accuracy: 0.8182\n",
      "Epoch 128/300\n",
      "179/179 [==============================] - 0s 2ms/step - loss: 0.4178 - accuracy: 0.8283\n",
      "Epoch 129/300\n",
      "179/179 [==============================] - 0s 2ms/step - loss: 0.4186 - accuracy: 0.8227\n",
      "Epoch 130/300\n",
      "179/179 [==============================] - 0s 2ms/step - loss: 0.4188 - accuracy: 0.8283\n",
      "Epoch 131/300\n",
      "179/179 [==============================] - 0s 2ms/step - loss: 0.4233 - accuracy: 0.8238\n",
      "Epoch 132/300\n",
      "179/179 [==============================] - 0s 2ms/step - loss: 0.4261 - accuracy: 0.8126\n",
      "Epoch 133/300\n",
      "179/179 [==============================] - 0s 2ms/step - loss: 0.4182 - accuracy: 0.8081\n",
      "Epoch 134/300\n",
      "179/179 [==============================] - 0s 2ms/step - loss: 0.4206 - accuracy: 0.8227\n",
      "Epoch 135/300\n",
      "179/179 [==============================] - 0s 2ms/step - loss: 0.4192 - accuracy: 0.8215\n",
      "Epoch 136/300\n",
      "179/179 [==============================] - 0s 2ms/step - loss: 0.4194 - accuracy: 0.8249\n",
      "Epoch 137/300\n",
      "179/179 [==============================] - 0s 2ms/step - loss: 0.4207 - accuracy: 0.8305\n",
      "Epoch 138/300\n",
      "179/179 [==============================] - 0s 2ms/step - loss: 0.4144 - accuracy: 0.8182\n",
      "Epoch 139/300\n",
      "179/179 [==============================] - 0s 2ms/step - loss: 0.4155 - accuracy: 0.8215\n",
      "Epoch 140/300\n",
      "179/179 [==============================] - 0s 2ms/step - loss: 0.4199 - accuracy: 0.8294\n",
      "Epoch 141/300\n",
      "179/179 [==============================] - 0s 2ms/step - loss: 0.4269 - accuracy: 0.8159\n",
      "Epoch 142/300\n",
      "179/179 [==============================] - 0s 2ms/step - loss: 0.4151 - accuracy: 0.8215\n",
      "Epoch 143/300\n",
      "179/179 [==============================] - 0s 2ms/step - loss: 0.4213 - accuracy: 0.8193\n",
      "Epoch 144/300\n",
      "179/179 [==============================] - 0s 2ms/step - loss: 0.4132 - accuracy: 0.8305\n",
      "Epoch 145/300\n",
      "179/179 [==============================] - 0s 2ms/step - loss: 0.4162 - accuracy: 0.8204\n",
      "Epoch 146/300\n",
      "179/179 [==============================] - 0s 2ms/step - loss: 0.4135 - accuracy: 0.8283\n",
      "Epoch 147/300\n",
      "179/179 [==============================] - 0s 2ms/step - loss: 0.4190 - accuracy: 0.8204\n",
      "Epoch 148/300\n",
      "179/179 [==============================] - 0s 2ms/step - loss: 0.4178 - accuracy: 0.8283\n",
      "Epoch 149/300\n",
      "179/179 [==============================] - 0s 2ms/step - loss: 0.4193 - accuracy: 0.8182\n",
      "Epoch 150/300\n",
      "179/179 [==============================] - 0s 2ms/step - loss: 0.4229 - accuracy: 0.8238\n",
      "Epoch 151/300\n",
      "179/179 [==============================] - 0s 2ms/step - loss: 0.4193 - accuracy: 0.8227\n",
      "Epoch 152/300\n",
      "179/179 [==============================] - 0s 2ms/step - loss: 0.4228 - accuracy: 0.8159\n",
      "Epoch 153/300\n",
      "179/179 [==============================] - 0s 2ms/step - loss: 0.4227 - accuracy: 0.8182\n",
      "Epoch 154/300\n",
      "179/179 [==============================] - 0s 2ms/step - loss: 0.4138 - accuracy: 0.8260\n",
      "Epoch 155/300\n",
      "179/179 [==============================] - 0s 2ms/step - loss: 0.4271 - accuracy: 0.8148\n",
      "Epoch 156/300\n",
      "179/179 [==============================] - 0s 2ms/step - loss: 0.4134 - accuracy: 0.8238\n",
      "Epoch 157/300\n",
      "179/179 [==============================] - 0s 2ms/step - loss: 0.4162 - accuracy: 0.8272\n",
      "Epoch 158/300\n",
      "179/179 [==============================] - 0s 2ms/step - loss: 0.4159 - accuracy: 0.8227\n",
      "Epoch 159/300\n",
      "179/179 [==============================] - 0s 2ms/step - loss: 0.4316 - accuracy: 0.8260\n",
      "Epoch 160/300\n",
      "179/179 [==============================] - 0s 2ms/step - loss: 0.4174 - accuracy: 0.8193\n",
      "Epoch 161/300\n",
      "179/179 [==============================] - 0s 2ms/step - loss: 0.4133 - accuracy: 0.8316\n",
      "Epoch 162/300\n",
      "179/179 [==============================] - 0s 2ms/step - loss: 0.4126 - accuracy: 0.8238\n",
      "Epoch 163/300\n",
      "179/179 [==============================] - 0s 2ms/step - loss: 0.4143 - accuracy: 0.8272\n",
      "Epoch 164/300\n",
      "179/179 [==============================] - 0s 2ms/step - loss: 0.4217 - accuracy: 0.8171\n",
      "Epoch 165/300\n",
      "179/179 [==============================] - 0s 2ms/step - loss: 0.4215 - accuracy: 0.8249\n",
      "Epoch 166/300\n",
      "179/179 [==============================] - 0s 2ms/step - loss: 0.4114 - accuracy: 0.8305\n",
      "Epoch 167/300\n",
      "179/179 [==============================] - 0s 2ms/step - loss: 0.4161 - accuracy: 0.8204\n",
      "Epoch 168/300\n",
      "179/179 [==============================] - 0s 2ms/step - loss: 0.4200 - accuracy: 0.8260\n",
      "Epoch 169/300\n",
      "179/179 [==============================] - 0s 2ms/step - loss: 0.4145 - accuracy: 0.8215\n",
      "Epoch 170/300\n",
      "179/179 [==============================] - 0s 2ms/step - loss: 0.4163 - accuracy: 0.8272\n",
      "Epoch 171/300\n",
      "179/179 [==============================] - 0s 2ms/step - loss: 0.4145 - accuracy: 0.8215\n",
      "Epoch 172/300\n",
      "179/179 [==============================] - 0s 2ms/step - loss: 0.4117 - accuracy: 0.8294\n",
      "Epoch 173/300\n",
      "179/179 [==============================] - 0s 2ms/step - loss: 0.4121 - accuracy: 0.8249\n",
      "Epoch 174/300\n",
      "179/179 [==============================] - 0s 2ms/step - loss: 0.4144 - accuracy: 0.8272\n",
      "Epoch 175/300\n",
      "179/179 [==============================] - 0s 2ms/step - loss: 0.4105 - accuracy: 0.8249\n",
      "Epoch 176/300\n",
      "179/179 [==============================] - 0s 2ms/step - loss: 0.4179 - accuracy: 0.8204\n",
      "Epoch 177/300\n",
      "179/179 [==============================] - 0s 2ms/step - loss: 0.4115 - accuracy: 0.8316\n",
      "Epoch 178/300\n",
      "179/179 [==============================] - 0s 2ms/step - loss: 0.4180 - accuracy: 0.8159\n",
      "Epoch 179/300\n",
      "179/179 [==============================] - 0s 1ms/step - loss: 0.4189 - accuracy: 0.8126\n",
      "Epoch 180/300\n",
      "179/179 [==============================] - 0s 1ms/step - loss: 0.4134 - accuracy: 0.8238\n",
      "Epoch 181/300\n",
      "179/179 [==============================] - 0s 1ms/step - loss: 0.4203 - accuracy: 0.8159\n",
      "Epoch 182/300\n",
      "179/179 [==============================] - 0s 1ms/step - loss: 0.4131 - accuracy: 0.8238\n",
      "Epoch 183/300\n",
      "179/179 [==============================] - 0s 1ms/step - loss: 0.4171 - accuracy: 0.8159\n",
      "Epoch 184/300\n",
      "179/179 [==============================] - 0s 1ms/step - loss: 0.4164 - accuracy: 0.8272\n",
      "Epoch 185/300\n",
      "179/179 [==============================] - 0s 1ms/step - loss: 0.4186 - accuracy: 0.8272\n",
      "Epoch 186/300\n",
      "179/179 [==============================] - 0s 1ms/step - loss: 0.4133 - accuracy: 0.8283\n",
      "Epoch 187/300\n",
      "179/179 [==============================] - 0s 1ms/step - loss: 0.4189 - accuracy: 0.8227\n",
      "Epoch 188/300\n",
      "179/179 [==============================] - 0s 1ms/step - loss: 0.4190 - accuracy: 0.8215\n",
      "Epoch 189/300\n",
      "179/179 [==============================] - 0s 1ms/step - loss: 0.4134 - accuracy: 0.8182\n",
      "Epoch 190/300\n",
      "179/179 [==============================] - 0s 1ms/step - loss: 0.4208 - accuracy: 0.8193\n",
      "Epoch 191/300\n",
      "179/179 [==============================] - 0s 1ms/step - loss: 0.4183 - accuracy: 0.8260\n",
      "Epoch 192/300\n",
      "179/179 [==============================] - 0s 1ms/step - loss: 0.4112 - accuracy: 0.8272\n",
      "Epoch 193/300\n",
      "179/179 [==============================] - 0s 1ms/step - loss: 0.4169 - accuracy: 0.8328\n",
      "Epoch 194/300\n",
      "179/179 [==============================] - 0s 1ms/step - loss: 0.4141 - accuracy: 0.8215\n",
      "Epoch 195/300\n",
      "179/179 [==============================] - 0s 1ms/step - loss: 0.4179 - accuracy: 0.8260\n",
      "Epoch 196/300\n",
      "179/179 [==============================] - 0s 1ms/step - loss: 0.4192 - accuracy: 0.8215\n",
      "Epoch 197/300\n",
      "179/179 [==============================] - 0s 1ms/step - loss: 0.4181 - accuracy: 0.8182\n",
      "Epoch 198/300\n",
      "179/179 [==============================] - 0s 1ms/step - loss: 0.4178 - accuracy: 0.8260\n",
      "Epoch 199/300\n",
      "179/179 [==============================] - 0s 1ms/step - loss: 0.4139 - accuracy: 0.8182\n",
      "Epoch 200/300\n",
      "179/179 [==============================] - 0s 1ms/step - loss: 0.4142 - accuracy: 0.8227\n",
      "Epoch 201/300\n",
      "179/179 [==============================] - 0s 1ms/step - loss: 0.4123 - accuracy: 0.8283\n",
      "Epoch 202/300\n",
      "179/179 [==============================] - 0s 1ms/step - loss: 0.4138 - accuracy: 0.8182\n",
      "Epoch 203/300\n",
      "179/179 [==============================] - 0s 1ms/step - loss: 0.4143 - accuracy: 0.8204\n",
      "Epoch 204/300\n",
      "179/179 [==============================] - 0s 1ms/step - loss: 0.4121 - accuracy: 0.8305\n",
      "Epoch 205/300\n",
      "179/179 [==============================] - 0s 1ms/step - loss: 0.4142 - accuracy: 0.8204\n",
      "Epoch 206/300\n",
      "179/179 [==============================] - 0s 1ms/step - loss: 0.4150 - accuracy: 0.8182\n",
      "Epoch 207/300\n",
      "179/179 [==============================] - 0s 1ms/step - loss: 0.4135 - accuracy: 0.8260\n",
      "Epoch 208/300\n",
      "179/179 [==============================] - 0s 1ms/step - loss: 0.4109 - accuracy: 0.8204\n",
      "Epoch 209/300\n",
      "179/179 [==============================] - 0s 1ms/step - loss: 0.4155 - accuracy: 0.8182\n",
      "Epoch 210/300\n",
      "179/179 [==============================] - 0s 2ms/step - loss: 0.4173 - accuracy: 0.8227\n",
      "Epoch 211/300\n",
      "179/179 [==============================] - 0s 1ms/step - loss: 0.4183 - accuracy: 0.8215\n",
      "Epoch 212/300\n",
      "179/179 [==============================] - 0s 1ms/step - loss: 0.4141 - accuracy: 0.8260\n",
      "Epoch 213/300\n",
      "179/179 [==============================] - 0s 1ms/step - loss: 0.4148 - accuracy: 0.8204\n",
      "Epoch 214/300\n",
      "179/179 [==============================] - 0s 1ms/step - loss: 0.4144 - accuracy: 0.8215\n",
      "Epoch 215/300\n",
      "179/179 [==============================] - 0s 1ms/step - loss: 0.4151 - accuracy: 0.8215\n",
      "Epoch 216/300\n",
      "179/179 [==============================] - 0s 1ms/step - loss: 0.4086 - accuracy: 0.8305\n",
      "Epoch 217/300\n",
      "179/179 [==============================] - 0s 1ms/step - loss: 0.4186 - accuracy: 0.8036\n",
      "Epoch 218/300\n",
      "179/179 [==============================] - 0s 1ms/step - loss: 0.4108 - accuracy: 0.8215\n",
      "Epoch 219/300\n",
      "179/179 [==============================] - 0s 1ms/step - loss: 0.4130 - accuracy: 0.8249\n",
      "Epoch 220/300\n",
      "179/179 [==============================] - 0s 1ms/step - loss: 0.4142 - accuracy: 0.8182\n",
      "Epoch 221/300\n",
      "179/179 [==============================] - 0s 1ms/step - loss: 0.4087 - accuracy: 0.8227\n",
      "Epoch 222/300\n",
      "179/179 [==============================] - 0s 1ms/step - loss: 0.4090 - accuracy: 0.8249\n",
      "Epoch 223/300\n",
      "179/179 [==============================] - 0s 1ms/step - loss: 0.4105 - accuracy: 0.8193\n",
      "Epoch 224/300\n",
      "179/179 [==============================] - 0s 1ms/step - loss: 0.4160 - accuracy: 0.8238\n",
      "Epoch 225/300\n",
      "179/179 [==============================] - 0s 1ms/step - loss: 0.4172 - accuracy: 0.8193\n",
      "Epoch 226/300\n",
      "179/179 [==============================] - 0s 1ms/step - loss: 0.4076 - accuracy: 0.8283\n",
      "Epoch 227/300\n",
      "179/179 [==============================] - 0s 1ms/step - loss: 0.4097 - accuracy: 0.8215\n",
      "Epoch 228/300\n",
      "179/179 [==============================] - 0s 1ms/step - loss: 0.4094 - accuracy: 0.8249\n",
      "Epoch 229/300\n",
      "179/179 [==============================] - 0s 1ms/step - loss: 0.4103 - accuracy: 0.8238\n",
      "Epoch 230/300\n",
      "179/179 [==============================] - 0s 1ms/step - loss: 0.4046 - accuracy: 0.8260\n",
      "Epoch 231/300\n",
      "179/179 [==============================] - 0s 1ms/step - loss: 0.4108 - accuracy: 0.8193\n",
      "Epoch 232/300\n",
      "179/179 [==============================] - 0s 1ms/step - loss: 0.4096 - accuracy: 0.8305\n",
      "Epoch 233/300\n",
      "179/179 [==============================] - 0s 1ms/step - loss: 0.4110 - accuracy: 0.8193\n",
      "Epoch 234/300\n",
      "179/179 [==============================] - 0s 1ms/step - loss: 0.4188 - accuracy: 0.8215\n",
      "Epoch 235/300\n",
      "179/179 [==============================] - 0s 1ms/step - loss: 0.4154 - accuracy: 0.8215\n",
      "Epoch 236/300\n",
      "179/179 [==============================] - 0s 1ms/step - loss: 0.4154 - accuracy: 0.8148\n",
      "Epoch 237/300\n",
      "179/179 [==============================] - 0s 1ms/step - loss: 0.4039 - accuracy: 0.8238\n",
      "Epoch 238/300\n",
      "179/179 [==============================] - 0s 1ms/step - loss: 0.4088 - accuracy: 0.8272\n",
      "Epoch 239/300\n",
      "179/179 [==============================] - 0s 1ms/step - loss: 0.4092 - accuracy: 0.8249\n",
      "Epoch 240/300\n",
      "179/179 [==============================] - 0s 1ms/step - loss: 0.4135 - accuracy: 0.8238\n",
      "Epoch 241/300\n",
      "179/179 [==============================] - 0s 1ms/step - loss: 0.4061 - accuracy: 0.8272\n",
      "Epoch 242/300\n",
      "179/179 [==============================] - 0s 1ms/step - loss: 0.4079 - accuracy: 0.8193\n",
      "Epoch 243/300\n",
      "179/179 [==============================] - 0s 1ms/step - loss: 0.4045 - accuracy: 0.8339\n",
      "Epoch 244/300\n",
      "179/179 [==============================] - 0s 1ms/step - loss: 0.4024 - accuracy: 0.8294\n",
      "Epoch 245/300\n",
      "179/179 [==============================] - 0s 1ms/step - loss: 0.4032 - accuracy: 0.8249\n",
      "Epoch 246/300\n",
      "179/179 [==============================] - 0s 1ms/step - loss: 0.4068 - accuracy: 0.8294\n",
      "Epoch 247/300\n",
      "179/179 [==============================] - 0s 1ms/step - loss: 0.4054 - accuracy: 0.8204\n",
      "Epoch 248/300\n",
      "179/179 [==============================] - 0s 1ms/step - loss: 0.4023 - accuracy: 0.8328\n",
      "Epoch 249/300\n",
      "179/179 [==============================] - 0s 1ms/step - loss: 0.4034 - accuracy: 0.8238\n",
      "Epoch 250/300\n",
      "179/179 [==============================] - 0s 2ms/step - loss: 0.3985 - accuracy: 0.8260\n",
      "Epoch 251/300\n",
      "179/179 [==============================] - 0s 1ms/step - loss: 0.4086 - accuracy: 0.8283\n",
      "Epoch 252/300\n",
      "179/179 [==============================] - 0s 1ms/step - loss: 0.4053 - accuracy: 0.8182\n",
      "Epoch 253/300\n",
      "179/179 [==============================] - 0s 1ms/step - loss: 0.4045 - accuracy: 0.8215\n",
      "Epoch 254/300\n",
      "179/179 [==============================] - 0s 1ms/step - loss: 0.4020 - accuracy: 0.8316\n",
      "Epoch 255/300\n",
      "179/179 [==============================] - 0s 1ms/step - loss: 0.4052 - accuracy: 0.8283\n",
      "Epoch 256/300\n",
      "179/179 [==============================] - 0s 1ms/step - loss: 0.4077 - accuracy: 0.8182\n",
      "Epoch 257/300\n",
      "179/179 [==============================] - 0s 1ms/step - loss: 0.4058 - accuracy: 0.8294\n",
      "Epoch 258/300\n",
      "179/179 [==============================] - 0s 1ms/step - loss: 0.4009 - accuracy: 0.8260\n",
      "Epoch 259/300\n",
      "179/179 [==============================] - 0s 1ms/step - loss: 0.3993 - accuracy: 0.8350\n",
      "Epoch 260/300\n",
      "179/179 [==============================] - 0s 1ms/step - loss: 0.4056 - accuracy: 0.8249\n",
      "Epoch 261/300\n",
      "179/179 [==============================] - 0s 1ms/step - loss: 0.4002 - accuracy: 0.8238\n",
      "Epoch 262/300\n",
      "179/179 [==============================] - 0s 1ms/step - loss: 0.3985 - accuracy: 0.8305\n",
      "Epoch 263/300\n",
      "179/179 [==============================] - 0s 1ms/step - loss: 0.3995 - accuracy: 0.8316\n",
      "Epoch 264/300\n",
      "179/179 [==============================] - 0s 1ms/step - loss: 0.4007 - accuracy: 0.8316\n",
      "Epoch 265/300\n",
      "179/179 [==============================] - 0s 1ms/step - loss: 0.4086 - accuracy: 0.8227\n",
      "Epoch 266/300\n",
      "179/179 [==============================] - 0s 1ms/step - loss: 0.4024 - accuracy: 0.8249\n",
      "Epoch 267/300\n",
      "179/179 [==============================] - 0s 1ms/step - loss: 0.4015 - accuracy: 0.8238\n",
      "Epoch 268/300\n",
      "179/179 [==============================] - 0s 1ms/step - loss: 0.4010 - accuracy: 0.8249\n",
      "Epoch 269/300\n",
      "179/179 [==============================] - 0s 1ms/step - loss: 0.4025 - accuracy: 0.8316\n",
      "Epoch 270/300\n",
      "179/179 [==============================] - 0s 1ms/step - loss: 0.3994 - accuracy: 0.8249\n",
      "Epoch 271/300\n",
      "179/179 [==============================] - 0s 1ms/step - loss: 0.4014 - accuracy: 0.8215\n",
      "Epoch 272/300\n",
      "179/179 [==============================] - 0s 1ms/step - loss: 0.4053 - accuracy: 0.8283\n",
      "Epoch 273/300\n",
      "179/179 [==============================] - 0s 1ms/step - loss: 0.4006 - accuracy: 0.8350\n",
      "Epoch 274/300\n",
      "179/179 [==============================] - 0s 1ms/step - loss: 0.4003 - accuracy: 0.8272\n",
      "Epoch 275/300\n",
      "179/179 [==============================] - 0s 1ms/step - loss: 0.4006 - accuracy: 0.8249\n",
      "Epoch 276/300\n",
      "179/179 [==============================] - 0s 1ms/step - loss: 0.4050 - accuracy: 0.8238\n",
      "Epoch 277/300\n",
      "179/179 [==============================] - 0s 1ms/step - loss: 0.4008 - accuracy: 0.8283\n",
      "Epoch 278/300\n",
      "179/179 [==============================] - 0s 1ms/step - loss: 0.3993 - accuracy: 0.8249\n",
      "Epoch 279/300\n",
      "179/179 [==============================] - 0s 1ms/step - loss: 0.3993 - accuracy: 0.8294\n",
      "Epoch 280/300\n",
      "179/179 [==============================] - 0s 1ms/step - loss: 0.4016 - accuracy: 0.8227\n",
      "Epoch 281/300\n",
      "179/179 [==============================] - 0s 1ms/step - loss: 0.4022 - accuracy: 0.8238\n",
      "Epoch 282/300\n",
      "179/179 [==============================] - 0s 1ms/step - loss: 0.3977 - accuracy: 0.8384\n",
      "Epoch 283/300\n",
      "179/179 [==============================] - 0s 2ms/step - loss: 0.3986 - accuracy: 0.8283\n",
      "Epoch 284/300\n",
      "179/179 [==============================] - 0s 1ms/step - loss: 0.3970 - accuracy: 0.8294\n",
      "Epoch 285/300\n",
      "179/179 [==============================] - 0s 1ms/step - loss: 0.4039 - accuracy: 0.8283\n",
      "Epoch 286/300\n",
      "179/179 [==============================] - 0s 1ms/step - loss: 0.3959 - accuracy: 0.8215\n",
      "Epoch 287/300\n",
      "179/179 [==============================] - 0s 1ms/step - loss: 0.4081 - accuracy: 0.8305\n",
      "Epoch 288/300\n",
      "179/179 [==============================] - 0s 1ms/step - loss: 0.3957 - accuracy: 0.8328\n",
      "Epoch 289/300\n",
      "179/179 [==============================] - 0s 1ms/step - loss: 0.3980 - accuracy: 0.8294\n",
      "Epoch 290/300\n",
      "179/179 [==============================] - 0s 1ms/step - loss: 0.3957 - accuracy: 0.8339\n",
      "Epoch 291/300\n",
      "179/179 [==============================] - 0s 1ms/step - loss: 0.3977 - accuracy: 0.8316\n",
      "Epoch 292/300\n",
      "179/179 [==============================] - 0s 1ms/step - loss: 0.3971 - accuracy: 0.8328\n",
      "Epoch 293/300\n",
      "179/179 [==============================] - 0s 1ms/step - loss: 0.3998 - accuracy: 0.8294\n",
      "Epoch 294/300\n",
      "179/179 [==============================] - 0s 1ms/step - loss: 0.3982 - accuracy: 0.8260\n",
      "Epoch 295/300\n",
      "179/179 [==============================] - 0s 1ms/step - loss: 0.3983 - accuracy: 0.8215\n",
      "Epoch 296/300\n",
      "179/179 [==============================] - 0s 1ms/step - loss: 0.4007 - accuracy: 0.8227\n",
      "Epoch 297/300\n",
      "179/179 [==============================] - 0s 2ms/step - loss: 0.3971 - accuracy: 0.8305\n",
      "Epoch 298/300\n",
      "179/179 [==============================] - 0s 2ms/step - loss: 0.4098 - accuracy: 0.8305\n",
      "Epoch 299/300\n",
      "179/179 [==============================] - 0s 1ms/step - loss: 0.3969 - accuracy: 0.8260\n",
      "Epoch 300/300\n",
      "179/179 [==============================] - 0s 1ms/step - loss: 0.4014 - accuracy: 0.8305\n"
     ]
    },
    {
     "data": {
      "text/plain": [
       "<keras.callbacks.History at 0x1800ff93760>"
      ]
     },
     "execution_count": 40,
     "metadata": {},
     "output_type": "execute_result"
    }
   ],
   "source": [
    "#Fitting the Model\n",
    "model.fit(X, y, epochs=300, batch_size=5)"
   ]
  },
  {
   "cell_type": "code",
   "execution_count": 43,
   "id": "d071f195",
   "metadata": {
    "scrolled": false
   },
   "outputs": [
    {
     "name": "stdout",
     "output_type": "stream",
     "text": [
      "Accuracy 0.8212\n",
      "Loss 0.3524\n"
     ]
    }
   ],
   "source": [
    "loss, accuracy = model.evaluate(X_test, y_test, verbose=False)\n",
    "print(\"Accuracy {:.4f}\".format(accuracy))\n",
    "loss, accuracy = model.evaluate(X_test, y_test, verbose=False)\n",
    "print(\"Loss {:.4f}\".format(loss))"
   ]
  },
  {
   "cell_type": "markdown",
   "id": "ab4a00e2",
   "metadata": {},
   "source": [
    "# Comparison"
   ]
  },
  {
   "cell_type": "code",
   "execution_count": 45,
   "id": "4cdfa536",
   "metadata": {},
   "outputs": [
    {
     "name": "stdout",
     "output_type": "stream",
     "text": [
      "Accuracy of Logistic Regression:  0.8156424581005587\n",
      "Accuracy of Support Vector Machine: 0.7877094972067039\n",
      "Accuracy of Nueral Network Sequential: 0.8212\n"
     ]
    }
   ],
   "source": [
    "print('Accuracy of Logistic Regression: ',model_1_testing_accuracy )\n",
    "print(\"Accuracy of Support Vector Machine:\",metrics.accuracy_score(y_test,model_2_test_prediction))\n",
    "print(\"Accuracy of Nueral Network Sequential: {:.4f}\".format(accuracy))"
   ]
  },
  {
   "cell_type": "markdown",
   "id": "84c9009b",
   "metadata": {},
   "source": [
    "Based on testing accuracy, The Sequential Neural network has performed better than both machine learning algorithm but Logistic Regression algorithm is not lagging behind in  performance"
   ]
  },
  {
   "cell_type": "markdown",
   "id": "81e86990",
   "metadata": {},
   "source": [
    "# Analysis"
   ]
  },
  {
   "cell_type": "markdown",
   "id": "cb2a1388",
   "metadata": {},
   "source": [
    "Neural Networks perfrom considerably well for it structures its algorithm where it can learn and decide wisely on its own through well structured layers, connecting each weights and biases to the output. While Machine learning can only makes its decisions or predictions based on what its learned, learning by either supervised or unsuperviesd. The superiority of neaural network as an algorithm has been shown on this program ranking highest in accuracy scores, for it makes use of  gradient descent, the neural network model gain knowledge over time by using training data, and the cost function in gradient descent especially serves as a barometer by assessing the accuracy of each iteration of parameter changes. With batch size and epoch. The sequential model with its dense layers with hyperparameters like batch sizr and epoch updates its model to better predict the outcome of input data. Logistic Regression not falling that far behind in the ranking of accuracy scores for it does extremely well if the output we want to identify falls between two classifications. It falls well for the dataset since its a supervised learning and most of its data are labeled. SVM ranked lowest from all the algorithms, I have researched that a dataset with multiple label with only two targets gives SVM a hard time in classification, based on the iris data set that I have seen has only two labels for the selected target values, for this dataset i have included 5 labes, the might be the reason for its low performance."
   ]
  },
  {
   "cell_type": "markdown",
   "id": "2c8e518a",
   "metadata": {},
   "source": [
    "# Conclusion"
   ]
  },
  {
   "cell_type": "markdown",
   "id": "4df349dd",
   "metadata": {},
   "source": [
    "If we are to create an algorithm for training and testing Neural network provides better structuring and performance, but it depends on the dataset, some machine learning algorithms perform well and on par with neural networks in classification. As seen from the data a simple Logistic Regression almost has the same accuracy as the built neaural network with strain on users device."
   ]
  },
  {
   "cell_type": "code",
   "execution_count": null,
   "id": "ac41be3d",
   "metadata": {},
   "outputs": [],
   "source": []
  }
 ],
 "metadata": {
  "kernelspec": {
   "display_name": "Python 3 (ipykernel)",
   "language": "python",
   "name": "python3"
  },
  "language_info": {
   "codemirror_mode": {
    "name": "ipython",
    "version": 3
   },
   "file_extension": ".py",
   "mimetype": "text/x-python",
   "name": "python",
   "nbconvert_exporter": "python",
   "pygments_lexer": "ipython3",
   "version": "3.9.12"
  }
 },
 "nbformat": 4,
 "nbformat_minor": 5
}
